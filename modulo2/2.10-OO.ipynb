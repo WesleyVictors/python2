{
  "cells": [
    {
      "cell_type": "markdown",
      "metadata": {},
      "source": [
        "## Exercícios\n",
        "\n",
        "#### Q1.\n",
        "Essa lista de exercícios terá como base a classe `Evento` criada em exercícios anteriores. Primeiramente criaremos a classe abstrata `EventoABC` com os métodos de instância abstratos `__str__(self)` e `isConcluido(self)`, indicando que todos as subclasses que dela herdarem devem implementar esses métodos.\n",
        "\n",
        "`EventoABC` também possui os atributos `_titulo` (string) e `_descricao` (string), cujos valores são recebidos e inicializados no construtor da classe. Note a convenção de nomenclatura indicando o caráter privado desses atributos."
      ]
    },
    {
      "cell_type": "code",
      "execution_count": 4,
      "metadata": {
        "trusted": true,
        "vscode": {
          "languageId": "plaintext"
        }
      },
      "outputs": [],
      "source": [
        "#### Classe EventoABC\n",
        "from abc import ABC, abstractmethod\n",
        "\n",
        "class EventoABC(ABC):\n",
        "    def __init__(self, titulo: str, descricao: str):\n",
        "        self._titulo = titulo\n",
        "        self._descricao = descricao\n",
        "\n",
        "    @abstractmethod\n",
        "    def __str__(self) -> str:\n",
        "\n",
        "        pass\n",
        "\n",
        "    @abstractmethod\n",
        "    def isConcluido(self) -> bool:\n",
        "\n",
        "        pass\n"
      ]
    },
    {
      "cell_type": "markdown",
      "metadata": {
        "vscode": {
          "languageId": "plaintext"
        }
      },
      "source": [
        "#### Q2.\n",
        "\n",
        "Crie a classe `DataHora` que dará suporte ao registro de eventos de calendário.\n",
        "* A classe possui o atributo de instância `_data_hora` (datetime) privado e um atributo de classe `FORMAT` inicializado com a formatação de string aceito para `_data_hora`, ou seja, `FORMAT = '%d/%m/%Y, %H:%M'`.\n",
        "* A classe **não possui construtor customizado**. A alteração de seu atributo se dará a partir da propriedade a seguir.\n",
        "* Crie a `property` `data_hora` para manipular o atributo `_data_hora`.\n",
        "    * O getter da propriedade deve retornar a data como uma string formatada (`%d/%m/%Y, %H:%M`). Use o atributo `FORMAT`. Consulte o [funcionamento do método `strftime`](https://www.programiz.com/python-programming/datetime/strftime).\n",
        "    * O setter da propriedade deve receber uma string de data formatada (`%d/%m/%Y, %H:%M`) e implementar um bloco try-except que tenta converter a string em `datetime` e lança um `ValueError` caso a entrada seja inválida. Use o atributo `FORMAT`. Consulte o [funcionamento do método `strptime`](https://www.digitalocean.com/community/tutorials/python-string-to-datetime-strptime).\n",
        "* Crie o método de instância `isPassado(self)` que avalia se a `_data_hora` é menor que `datetime.now()` (a data e hora atual) e retorna `True` em caso positivo, e `False` caso contrário.\n",
        "* Crie o método de instância `somaDias(self, num_dias)` que recebe um inteiro `num_dias`, soma esse valor ao atributo interno `_data_hora` e retorna a string formatada do resultado da soma (código dado a seguir).   \n",
        "```python\n",
        "data_hora_somada = self._data_hora + datetime.timedelta(days=num_dias)\n",
        "return data_hora_somada.strftime(FORMAT)\n",
        "```\n",
        "\n",
        "Teste a classe `DataHora` com o seguinte código (altere o que for necessário):\n",
        "```python\n",
        "# instanciando o objeto\n",
        "dh = DataHora()\n",
        "\n",
        "# definindo a data_hora através da propriedade\n",
        "dh.data_hora = '05/02/2024, 12:30'\n",
        "\n",
        "## editando a data_hora através da função somaDias\n",
        "dh.data_hora = dh.somaDias(30)\n",
        "\n",
        "## imprimindo a data_hora editada e se é passado\n",
        "print(dh.data_hora, dh.isPassado())\n",
        "```"
      ]
    },
    {
      "cell_type": "code",
      "execution_count": 11,
      "metadata": {
        "trusted": true,
        "vscode": {
          "languageId": "plaintext"
        }
      },
      "outputs": [
        {
          "name": "stdout",
          "output_type": "stream",
          "text": [
            "06/03/2024, 12:30 True\n"
          ]
        }
      ],
      "source": [
        "#### Classe DataHora\n",
        "from datetime import datetime, timedelta\n",
        "\n",
        "class DataHora:\n",
        "    FORMAT = '%d/%m/%Y, %H:%M'  \n",
        "\n",
        "    def __init__(self):\n",
        "        self._data_hora = None  \n",
        "\n",
        "    @property\n",
        "    def data_hora(self):\n",
        "        if self._data_hora is None:\n",
        "            return None\n",
        "        return self._data_hora.strftime(self.FORMAT)\n",
        "\n",
        "    @data_hora.setter\n",
        "    def data_hora(self, valor: str):\n",
        "        try:\n",
        "            self._data_hora = datetime.strptime(valor, self.FORMAT)\n",
        "        except ValueError:\n",
        "            raise ValueError(f\"Data inválida! Use o formato {self.FORMAT}\")\n",
        "\n",
        "    def isPassado(self):\n",
        "        if self._data_hora is None:\n",
        "            return False\n",
        "        return self._data_hora < datetime.now()\n",
        "\n",
        "    def somaDias(self, num_dias: int):\n",
        "        if self._data_hora is None:\n",
        "            raise ValueError(\"A data_hora ainda não foi definida.\")\n",
        "        data_hora_somada = self._data_hora + timedelta(days=num_dias)\n",
        "        return data_hora_somada.strftime(self.FORMAT)\n",
        "#teste\n",
        "# instanciando o objeto\n",
        "dh = DataHora()\n",
        "\n",
        "# definindo a data_hora através da propriedade\n",
        "dh.data_hora = '05/02/2024, 12:30'\n",
        "\n",
        "## editando a data_hora através da função somaDias\n",
        "dh.data_hora = dh.somaDias(30)\n",
        "\n",
        "## imprimindo a data_hora editada e se é passado\n",
        "print(dh.data_hora, dh.isPassado())"
      ]
    },
    {
      "cell_type": "markdown",
      "metadata": {},
      "source": [
        "#### Q3.\n",
        "Crie a classe `EventoUnico`:\n",
        "* A classe deve herdar de `EventoABC`.\n",
        "* Possui o atributo de instância `_data_hora` (classe `DataHora` que criamos previamente).\n",
        "* Seu construtor deve receber e inicializar os atributos da superclasse, além do valor de `_data_hora` recebido como uma string formatada (`%d/%m/%Y, %H:%M`). Note que para alterar `_data_hora` (objeto tipo `DataHora`), você deve manipular a propriedade interna da classe.\n",
        "*  Implementa os métodos abstratos da superclasse:\n",
        "    * Método `isConcluido()` que invoca o método `isPassado()` de `_data_hora` e retorna o seu resultado.\n",
        "    * Método `__str__` que imprime os atributos do evento na forma `\"Evento: _titulo, Data: _data_hora, Descrição: _descricao, Concluido: isConcluido()\"`. Note que `isConcluido()` é o método de avaliação implementado. \n",
        "* Crie o método de instância `editar_data_hora` que recebe uma string formatada e altera `_data_hora` (através de sua propriedade interna).\n",
        "    \n",
        "    \n",
        "Teste a classe `EventoUnico` com o seguinte código:\n",
        "```python\n",
        "# criar evento\n",
        "evento = EventoUnico('Reunião', 'Sala 302, prédio da esquina', '05/10/2023, 16:30')\n",
        "print(evento)\n",
        "\n",
        "# editar data do evento (através da propriedade)\n",
        "evento.editar_data_hora('05/10/2024, 16:30')\n",
        "print(evento)\n",
        "```"
      ]
    },
    {
      "cell_type": "code",
      "execution_count": 10,
      "metadata": {
        "trusted": true,
        "vscode": {
          "languageId": "plaintext"
        }
      },
      "outputs": [
        {
          "name": "stdout",
          "output_type": "stream",
          "text": [
            "Evento: Reunião, Data: 05/10/2023, 16:30, Descrição: Sala 302, prédio da esquina, Concluído: True\n",
            "Evento: Reunião, Data: 05/10/2024, 16:30, Descrição: Sala 302, prédio da esquina, Concluído: True\n"
          ]
        }
      ],
      "source": [
        "#### Classe EventoUnico\n",
        "class EventoUnico(EventoABC):\n",
        "    def __init__(self, titulo: str, descricao: str, data_hora_str: str):\n",
        "        super().__init__(titulo, descricao)\n",
        "        self._data_hora = DataHora()\n",
        "        self._data_hora.data_hora = data_hora_str  # usa a property para setar a data\n",
        "\n",
        "    def isConcluido(self):\n",
        "        return self._data_hora.isPassado()\n",
        "\n",
        "    def __str__(self):\n",
        "        return (f\"Evento: {self._titulo}, Data: {self._data_hora.data_hora}, \"\n",
        "                f\"Descrição: {self._descricao}, Concluído: {self.isConcluido()}\")\n",
        "\n",
        "    def editar_data_hora(self, nova_data_str: str):\n",
        "        self._data_hora.data_hora = nova_data_str\n",
        "\n",
        "\n",
        "#teste da clasee\n",
        "# criar evento\n",
        "evento = EventoUnico('Reunião', 'Sala 302, prédio da esquina', '05/10/2023, 16:30')\n",
        "print(evento)\n",
        "\n",
        "# editar data do evento (através da propriedade)\n",
        "evento.editar_data_hora('05/10/2024, 16:30')\n",
        "print(evento)\n"
      ]
    },
    {
      "cell_type": "markdown",
      "metadata": {},
      "source": [
        "#### Q3.\n",
        "Crie a classe `EventoRecorrente`:\n",
        "* A classe deve herdar de `EventoABC`.\n",
        "* Possui como atributo próprio uma lista privada de objetos `DataHora` (como você deve nomear o atributo?).\n",
        "* Seu construtor recebe os atributos da superclasse, além dos atributos `data_hora_inicial` (string formatada), `data_hora_final` (string formatada) e `intervalo_repeticao` (int), sendo o intervalo dado em dias. Preencha a coleção `DataHora` de acordo com o intervalo de repetição fornecido. Dica: crie o objeto `DataHora` inicial e use sua função interna `somaDias` para criar iterativamente as novas instâncias do intervalo até chegar em `DataHora` final. \n",
        "*  Implementa os métodos abstratos da superclasse:\n",
        "    * Método `isConcluido(indice)` que que invoca o método `isPassado()` do elemento `indice` da coleção de objetos `DataHora` e retorna seu resultado. \n",
        "    * Método `__str__` que imprime (em um laço) **todos as ocorrências `i` do evento** na forma `\"Evento: _titulo, Data: data_hora[i], Descrição: _descricao, Concluido: isConcluido(i)\"`. \n",
        "* Crie o método `editar_data_hora` que recebe `data_hora_antiga` e `data_hora_nova` e altera o elemento da coleção de objetos `DataHora` que corresponde a `data_hora_antiga` fornecida.    \n",
        "\n",
        "\n",
        "Teste a classe `EventoRecorrente` com o seguinte código:\n",
        "```python\n",
        "# criar evento\n",
        "eventos = EventoRecorrente(\n",
        "    'Reunião', 'Sala 302, prédio da esquina', \n",
        "    '05/01/2024, 16:30', '05/01/2025, 16:30', 30)\n",
        "\n",
        "# imprimir eventos\n",
        "print(eventos)\n",
        "\n",
        "# editar um dos eventos\n",
        "eventos.editar_data_hora('05/12/2024, 16:30', '05/12/2024, 11:30')\n",
        "\n",
        "# imprimir eventos\n",
        "print(eventos)\n",
        "```"
      ]
    },
    {
      "cell_type": "code",
      "execution_count": 12,
      "metadata": {
        "trusted": true,
        "vscode": {
          "languageId": "plaintext"
        }
      },
      "outputs": [
        {
          "name": "stdout",
          "output_type": "stream",
          "text": [
            "Evento: Reunião, Data: 05/01/2024, 16:30, Descrição: Sala 302, prédio da esquina, Concluído: True\n",
            "Evento: Reunião, Data: 04/02/2024, 16:30, Descrição: Sala 302, prédio da esquina, Concluído: True\n",
            "Evento: Reunião, Data: 05/03/2024, 16:30, Descrição: Sala 302, prédio da esquina, Concluído: True\n",
            "Evento: Reunião, Data: 04/04/2024, 16:30, Descrição: Sala 302, prédio da esquina, Concluído: True\n",
            "Evento: Reunião, Data: 04/05/2024, 16:30, Descrição: Sala 302, prédio da esquina, Concluído: True\n",
            "Evento: Reunião, Data: 03/06/2024, 16:30, Descrição: Sala 302, prédio da esquina, Concluído: True\n",
            "Evento: Reunião, Data: 03/07/2024, 16:30, Descrição: Sala 302, prédio da esquina, Concluído: True\n",
            "Evento: Reunião, Data: 02/08/2024, 16:30, Descrição: Sala 302, prédio da esquina, Concluído: True\n",
            "Evento: Reunião, Data: 01/09/2024, 16:30, Descrição: Sala 302, prédio da esquina, Concluído: True\n",
            "Evento: Reunião, Data: 01/10/2024, 16:30, Descrição: Sala 302, prédio da esquina, Concluído: True\n",
            "Evento: Reunião, Data: 31/10/2024, 16:30, Descrição: Sala 302, prédio da esquina, Concluído: True\n",
            "Evento: Reunião, Data: 30/11/2024, 16:30, Descrição: Sala 302, prédio da esquina, Concluído: True\n",
            "Evento: Reunião, Data: 30/12/2024, 16:30, Descrição: Sala 302, prédio da esquina, Concluído: True\n"
          ]
        },
        {
          "ename": "<class 'ValueError'>",
          "evalue": "Data antiga não encontrada.",
          "output_type": "error",
          "traceback": [
            "\u001b[0;31m---------------------------------------------------------------------------\u001b[0m",
            "\u001b[0;31mValueError\u001b[0m                                Traceback (most recent call last)",
            "Cell \u001b[0;32mIn[12], line 51\u001b[0m\n\u001b[1;32m     48\u001b[0m \u001b[38;5;28mprint\u001b[39m(eventos)\n\u001b[1;32m     50\u001b[0m \u001b[38;5;66;03m# editar um dos eventos\u001b[39;00m\n\u001b[0;32m---> 51\u001b[0m \u001b[43meventos\u001b[49m\u001b[38;5;241;43m.\u001b[39;49m\u001b[43meditar_data_hora\u001b[49m\u001b[43m(\u001b[49m\u001b[38;5;124;43m'\u001b[39;49m\u001b[38;5;124;43m05/12/2024, 16:30\u001b[39;49m\u001b[38;5;124;43m'\u001b[39;49m\u001b[43m,\u001b[49m\u001b[43m \u001b[49m\u001b[38;5;124;43m'\u001b[39;49m\u001b[38;5;124;43m05/12/2024, 11:30\u001b[39;49m\u001b[38;5;124;43m'\u001b[39;49m\u001b[43m)\u001b[49m\n\u001b[1;32m     53\u001b[0m \u001b[38;5;66;03m# imprimir eventos\u001b[39;00m\n\u001b[1;32m     54\u001b[0m \u001b[38;5;28mprint\u001b[39m(eventos)\n",
            "Cell \u001b[0;32mIn[12], line 39\u001b[0m, in \u001b[0;36mEventoRecorrente.editar_data_hora\u001b[0;34m(self, data_hora_antiga, data_hora_nova)\u001b[0m\n\u001b[1;32m     37\u001b[0m         data\u001b[38;5;241m.\u001b[39mdata_hora \u001b[38;5;241m=\u001b[39m data_hora_nova\n\u001b[1;32m     38\u001b[0m         \u001b[38;5;28;01mreturn\u001b[39;00m\n\u001b[0;32m---> 39\u001b[0m \u001b[38;5;28;01mraise\u001b[39;00m \u001b[38;5;167;01mValueError\u001b[39;00m(\u001b[38;5;124m\"\u001b[39m\u001b[38;5;124mData antiga não encontrada.\u001b[39m\u001b[38;5;124m\"\u001b[39m)\n",
            "\u001b[0;31mValueError\u001b[0m: Data antiga não encontrada."
          ]
        }
      ],
      "source": [
        "class EventoRecorrente(EventoABC):\n",
        "    def __init__(self, titulo: str, descricao: str,\n",
        "                 data_hora_inicial: str, data_hora_final: str,\n",
        "                 intervalo_repeticao: int):\n",
        "        super().__init__(titulo, descricao)\n",
        "        self._datas_horas = []  \n",
        "\n",
        "     \n",
        "        atual = DataHora()\n",
        "        atual.data_hora = data_hora_inicial\n",
        "        self._datas_horas.append(atual)\n",
        "\n",
        "        \n",
        "        while True:\n",
        "            proxima_data_str = atual.somaDias(intervalo_repeticao)\n",
        "            if datetime.strptime(proxima_data_str, DataHora.FORMAT) > datetime.strptime(data_hora_final, DataHora.FORMAT):\n",
        "                break\n",
        "            novo = DataHora()\n",
        "            novo.data_hora = proxima_data_str\n",
        "            self._datas_horas.append(novo)\n",
        "            atual = novo\n",
        "\n",
        "    def isConcluido(self, indice: int) -> bool:\n",
        "        return self._datas_horas[indice].isPassado()\n",
        "\n",
        "    def __str__(self) -> str:\n",
        "        linhas = []\n",
        "        for i, data_hora in enumerate(self._datas_horas):\n",
        "            linha = (f\"Evento: {self._titulo}, Data: {data_hora.data_hora}, \"\n",
        "                     f\"Descrição: {self._descricao}, Concluído: {self.isConcluido(i)}\")\n",
        "            linhas.append(linha)\n",
        "        return \"\\n\".join(linhas)\n",
        "\n",
        "    def editar_data_hora(self, data_hora_antiga: str, data_hora_nova: str):\n",
        "        for data in self._datas_horas:\n",
        "            if data.data_hora == data_hora_antiga:\n",
        "                data.data_hora = data_hora_nova\n",
        "                return\n",
        "        raise ValueError(\"Data antiga não encontrada.\")\n",
        "\n",
        "#teste \n",
        "# criar evento\n",
        "eventos = EventoRecorrente(\n",
        "    'Reunião', 'Sala 302, prédio da esquina', \n",
        "    '05/01/2024, 16:30', '05/01/2025, 16:30', 30)\n",
        "\n",
        "# imprimir eventos\n",
        "print(eventos)\n",
        "\n",
        "# editar um dos eventos\n",
        "eventos.editar_data_hora('05/12/2024, 16:30', '05/12/2024, 11:30')\n",
        "\n",
        "# imprimir eventos\n",
        "print(eventos)\n"
      ]
    },
    {
      "cell_type": "markdown",
      "metadata": {},
      "source": [
        "#### Q4.\n",
        "\n",
        "Por fim, vamos só ver o polimorfismo em ação. Crie e preencha uma lista de eventos, sendo alguns do tipo `EventoUnico` e outros do tipo `EventoRecorrente`. Sobre essa lista, execute o laço de impressão a seguir:\n",
        "```python\n",
        "for evento in lista_eventos: print(evento)\n",
        "```\n",
        "A função `print` irá invocar o método especial `__str__` das classes correspondentes dependendo do tipo do objeto recebido. Aí está o polimorfismo :)"
      ]
    },
    {
      "cell_type": "code",
      "execution_count": 13,
      "metadata": {
        "trusted": true,
        "vscode": {
          "languageId": "plaintext"
        }
      },
      "outputs": [
        {
          "name": "stdout",
          "output_type": "stream",
          "text": [
            "Evento: Reunião Geral, Data: 01/07/2024, 09:00, Descrição: Auditório Central, Concluído: True\n",
            "------------------------------------------------------------\n",
            "Evento: Entrevista, Data: 15/06/2024, 14:30, Descrição: Sala 201, Concluído: True\n",
            "------------------------------------------------------------\n",
            "Evento: Reunião Mensal, Data: 05/03/2024, 10:00, Descrição: Sala 302, prédio da esquina, Concluído: True\n",
            "Evento: Reunião Mensal, Data: 04/04/2024, 10:00, Descrição: Sala 302, prédio da esquina, Concluído: True\n",
            "Evento: Reunião Mensal, Data: 04/05/2024, 10:00, Descrição: Sala 302, prédio da esquina, Concluído: True\n",
            "Evento: Reunião Mensal, Data: 03/06/2024, 10:00, Descrição: Sala 302, prédio da esquina, Concluído: True\n",
            "Evento: Reunião Mensal, Data: 03/07/2024, 10:00, Descrição: Sala 302, prédio da esquina, Concluído: True\n",
            "Evento: Reunião Mensal, Data: 02/08/2024, 10:00, Descrição: Sala 302, prédio da esquina, Concluído: True\n",
            "Evento: Reunião Mensal, Data: 01/09/2024, 10:00, Descrição: Sala 302, prédio da esquina, Concluído: True\n",
            "------------------------------------------------------------\n",
            "Evento: Aula de Python, Data: 01/06/2024, 18:00, Descrição: Sala virtual Zoom, Concluído: True\n",
            "Evento: Aula de Python, Data: 15/06/2024, 18:00, Descrição: Sala virtual Zoom, Concluído: True\n",
            "Evento: Aula de Python, Data: 29/06/2024, 18:00, Descrição: Sala virtual Zoom, Concluído: True\n",
            "Evento: Aula de Python, Data: 13/07/2024, 18:00, Descrição: Sala virtual Zoom, Concluído: True\n",
            "Evento: Aula de Python, Data: 27/07/2024, 18:00, Descrição: Sala virtual Zoom, Concluído: True\n",
            "------------------------------------------------------------\n"
          ]
        }
      ],
      "source": [
        "lista_eventos = [\n",
        "    EventoUnico('Reunião Geral', 'Auditório Central', '01/07/2024, 09:00'),\n",
        "    EventoUnico('Entrevista', 'Sala 201', '15/06/2024, 14:30'),\n",
        "    EventoRecorrente(\n",
        "        'Reunião Mensal', 'Sala 302, prédio da esquina',\n",
        "        '05/03/2024, 10:00', '05/09/2024, 10:00', 30\n",
        "    ),\n",
        "    EventoRecorrente(\n",
        "        'Aula de Python', 'Sala virtual Zoom',\n",
        "        '01/06/2024, 18:00', '01/08/2024, 18:00', 14\n",
        "    )\n",
        "]\n",
        "\n",
        "\n",
        "for evento in lista_eventos:\n",
        "    print(evento)\n",
        "    print(\"-\" * 60)\n"
      ]
    },
    {
      "cell_type": "code",
      "execution_count": null,
      "metadata": {
        "trusted": true
      },
      "outputs": [],
      "source": []
    }
  ],
  "metadata": {
    "kernelspec": {
      "display_name": "Python (Pyodide)",
      "language": "python",
      "name": "python"
    },
    "language_info": {
      "codemirror_mode": {
        "name": "python",
        "version": 3
      },
      "file_extension": ".py",
      "mimetype": "text/x-python",
      "name": "python",
      "nbconvert_exporter": "python",
      "pygments_lexer": "ipython3",
      "version": "3.8"
    }
  },
  "nbformat": 4,
  "nbformat_minor": 4
}
