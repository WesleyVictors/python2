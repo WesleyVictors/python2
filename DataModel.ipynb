{
  "nbformat": 4,
  "nbformat_minor": 0,
  "metadata": {
    "colab": {
      "provenance": [],
      "authorship_tag": "ABX9TyNrPBtgYUGHspYz/NcLLwgm",
      "include_colab_link": true
    },
    "kernelspec": {
      "name": "python3",
      "display_name": "Python 3"
    },
    "language_info": {
      "name": "python"
    }
  },
  "cells": [
    {
      "cell_type": "markdown",
      "metadata": {
        "id": "view-in-github",
        "colab_type": "text"
      },
      "source": [
        "<a href=\"https://colab.research.google.com/github/WesleyVictors/python2/blob/main/DataModel.ipynb\" target=\"_parent\"><img src=\"https://colab.research.google.com/assets/colab-badge.svg\" alt=\"Open In Colab\"/></a>"
      ]
    },
    {
      "cell_type": "markdown",
      "source": [
        "Q1. dataclass\n",
        "\n",
        "Exercício adaptado de codechalleng.es/bites/154/ e codechalleng.es/bites/320/.\n",
        "\n",
        "Neste desafio, você deve escrever uma dataclass chamada Bite que gerencia 3 atributos: number, title e level. Seus tipos são:\n",
        "\n",
        "    number - int,\n",
        "    title - str,\n",
        "    level - classe Enum chamada BiteLevel com os atributos Beginner, Intermediate, Advanced.\n",
        "\n",
        "Exemplo de dado: {'number': 154, 'title': 'Escreva uma dataclass', 'level': BiteLevel.Intermediate}\n",
        "\n",
        "As características dessa classe são:\n",
        "\n",
        "    O atributolevel tem um valor padrão BiteLevel.Beginner\n",
        "    Uma coleção de objetos Bite tem que ser ordenável somente pelo atributo number\n",
        "    Implemente o método especial __str__ para imprimir o Bite na forma f'{number} - {title} ({level})'\n",
        "\n",
        "Teste sua classe executando o seguinte código:\n",
        "\n",
        "bites = []\n",
        "bites.append(Bite(154, 'Escreva uma dataclass', 'Intermediate'))\n",
        "bites.append(Bite(1, 'Some n valores'))\n",
        "bites.append(Bite(37, 'Reescreva um loop com recursão', 'Intermediate'))\n",
        "\n",
        "for b in bites.sort(): print(b)\n",
        "# Ordem esperada na saída:\n",
        "# 1 - Some n valores (Beginner)\n",
        "# 37 - Reescreva um loop com recursão (Intermediate)\n",
        "# 154 - Escreva uma dataclass (Intermediate)"
      ],
      "metadata": {
        "id": "jVfzjjbRZzgl"
      }
    },
    {
      "cell_type": "code",
      "source": [
        "from dataclasses import dataclass, field\n",
        "from enum import Enum\n",
        "\n",
        "\n",
        "\n",
        "class BiteLevel(Enum):\n",
        "    Beginner = \"Beginner\"\n",
        "    Intermediate = \"Intermediate\"\n",
        "    Advanced = \"Advanced\"\n",
        "@dataclass(order=True)\n",
        "class Bite:\n",
        "    number: int\n",
        "    title: str\n",
        "    level: BiteLevel = field(default=BiteLevel.Beginner, compare=False)\n",
        "\n",
        "    def __post_init__(self):\n",
        "        if isinstance(self.level, str):\n",
        "            self.level = BiteLevel[self.level]\n",
        "\n",
        "    def __str__(self):\n",
        "        return f\"{self.number} - {self.title} ({self.level.value})\"\n",
        "\n",
        "bites = []\n",
        "bites.append(Bite(154, 'Escreva uma dataclass', 'Intermediate'))\n",
        "bites.append(Bite(1, 'Some n valores'))\n",
        "bites.append(Bite(37, 'Reescreva um loop com recursão', 'Intermediate'))\n",
        "\n",
        "\n",
        "for b in sorted(bites):\n",
        "    print(b)"
      ],
      "metadata": {
        "colab": {
          "base_uri": "https://localhost:8080/"
        },
        "id": "AzYvGdJ7NJH4",
        "outputId": "0e71f26b-ba4f-4212-cb47-43ceb34f842b"
      },
      "execution_count": 2,
      "outputs": [
        {
          "output_type": "stream",
          "name": "stdout",
          "text": [
            "1 - Some n valores (Beginner)\n",
            "37 - Reescreva um loop com recursão (Intermediate)\n",
            "154 - Escreva uma dataclass (Intermediate)\n"
          ]
        }
      ]
    },
    {
      "cell_type": "markdown",
      "source": [
        "Q2. Pydantic\n",
        "\n",
        "    Adaptada desse tutorial de Pydantic criado por Axel Donath e Nick Langellier.\n",
        "\n",
        "Observe a seguinte lista de observações da previsão do tempo em Murmansk, Russia.\n",
        "\n",
        "data_samples = [\n",
        "    {\n",
        "        \"date\": \"2023-05-20\",\n",
        "        \"temperature\": 62.2,\n",
        "        \"isCelsius\": False,\n",
        "        \"airQualityIndex\": \"24\",\n",
        "        \"sunriseTime\": \"01:26\",\n",
        "        \"sunsetTime\": \"00:00\",\n",
        "    },\n",
        "    {\n",
        "        \"date\": \"2023-05-21\",\n",
        "        \"temperature\": \"64.4\",\n",
        "        \"isCelsius\": \"not true\",\n",
        "        \"airQualityIndex\": 23,\n",
        "        \"sunriseTime\": \"01:10\",\n",
        "        \"sunsetTime\": \"00:16\",\n",
        "    },\n",
        "    {\n",
        "        \"date\": \"2023-05-22\",\n",
        "        \"temperature\": 14.4,\n",
        "        \"airQualityIndex\": 21,\n",
        "    },\n",
        "]\n",
        "\n",
        "Escreva um script que calcule e imprima a temperatura média (em Celsius) em Murmansk para as datas fornecidas. Em seu script, você deve incluir um modelo Pydantic que registre com sucesso todos os elementos dados. Note que:\n",
        "\n",
        "    Algumas amostras estão faltando dados. Você deve decidir quando o atributo pode ter um valor padrão ou quando definí-lo como opcional (typing.Optional).\n",
        "    Você precisará implementar pelo menos um validador de campo para transformar atributos. Dica: teste primeiro quais vão falhar :)\n"
      ],
      "metadata": {
        "id": "ZIkBaaHZaIS-"
      }
    },
    {
      "cell_type": "code",
      "execution_count": 6,
      "metadata": {
        "colab": {
          "base_uri": "https://localhost:8080/"
        },
        "id": "AJCPWvsSJlst",
        "outputId": "de98f9c9-4f0d-4f6f-9d9d-c446c768fdba"
      },
      "outputs": [
        {
          "output_type": "stream",
          "name": "stdout",
          "text": [
            "Temperatura média em Celsius: 47.00°C\n"
          ]
        },
        {
          "output_type": "stream",
          "name": "stderr",
          "text": [
            "/tmp/ipython-input-6-3933378353.py:13: PydanticDeprecatedSince20: Pydantic V1 style `@validator` validators are deprecated. You should migrate to Pydantic V2 style `@field_validator` validators, see the migration guide for more details. Deprecated in Pydantic V2.0 to be removed in V3.0. See Pydantic V2 Migration Guide at https://errors.pydantic.dev/2.11/migration/\n",
            "  @validator('temperature', pre=True)\n",
            "/tmp/ipython-input-6-3933378353.py:17: PydanticDeprecatedSince20: Pydantic V1 style `@validator` validators are deprecated. You should migrate to Pydantic V2 style `@field_validator` validators, see the migration guide for more details. Deprecated in Pydantic V2.0 to be removed in V3.0. See Pydantic V2 Migration Guide at https://errors.pydantic.dev/2.11/migration/\n",
            "  @validator('isCelsius', pre=True, always=True)\n",
            "/tmp/ipython-input-6-3933378353.py:23: PydanticDeprecatedSince20: Pydantic V1 style `@validator` validators are deprecated. You should migrate to Pydantic V2 style `@field_validator` validators, see the migration guide for more details. Deprecated in Pydantic V2.0 to be removed in V3.0. See Pydantic V2 Migration Guide at https://errors.pydantic.dev/2.11/migration/\n",
            "  @validator('temperature', always=True)\n"
          ]
        }
      ],
      "source": [
        "from pydantic import BaseModel, validator\n",
        "from typing import Optional, List\n",
        "from datetime import datetime\n",
        "\n",
        "class Clima(BaseModel):\n",
        "    date: datetime\n",
        "    temperature: float\n",
        "    isCelsius: Optional[bool] = True\n",
        "    airQualityIndex: int\n",
        "    sunriseTime: Optional[str] = None\n",
        "    sunsetTime: Optional[str] = None\n",
        "\n",
        "    @validator('temperature', pre=True)\n",
        "    def convert_temperature_to_float(cls, v):\n",
        "        return float(v)\n",
        "\n",
        "    @validator('isCelsius', pre=True, always=True)\n",
        "    def parse_is_celsius(cls, v):\n",
        "        if isinstance(v, str):\n",
        "            return v.strip().lower() in ['true', '1', 'yes']\n",
        "        return bool(v) if v is not None else True\n",
        "\n",
        "    @validator('temperature', always=True)\n",
        "    def convert_to_celsius(cls, temp, values):\n",
        "        is_celsius = values.get('isCelsius', True)\n",
        "        if not is_celsius:\n",
        "            return (temp - 32) * 5/9  # Fahrenheit → Celsius\n",
        "        return temp\n",
        "\n",
        "\n",
        "\n",
        "data_samples = [\n",
        "    {\n",
        "        \"date\": \"2023-05-20\",\n",
        "        \"temperature\": 62.2,\n",
        "        \"isCelsius\": False,\n",
        "        \"airQualityIndex\": \"24\",\n",
        "        \"sunriseTime\": \"01:26\",\n",
        "        \"sunsetTime\": \"00:00\",\n",
        "    },\n",
        "    {\n",
        "        \"date\": \"2023-05-21\",\n",
        "        \"temperature\": \"64.4\",\n",
        "        \"isCelsius\": \"not true\",\n",
        "        \"airQualityIndex\": 23,\n",
        "        \"sunriseTime\": \"01:10\",\n",
        "        \"sunsetTime\": \"00:16\",\n",
        "    },\n",
        "    {\n",
        "        \"date\": \"2023-05-22\",\n",
        "        \"temperature\": 14.4,\n",
        "        \"airQualityIndex\": 21,\n",
        "    },\n",
        "]\n",
        "\n",
        "# Validando e acumulando temperaturas em Celsius\n",
        "temperaturas = []\n",
        "\n",
        "for sample in data_samples:\n",
        "    try:\n",
        "        clima = Clima(**sample)\n",
        "        temperaturas.append(clima.temperature)\n",
        "    except Exception as e:\n",
        "        print(f\"Erro ao processar dado: {sample}\\n{e}\\n\")\n",
        "\n",
        "# Cálculo da média\n",
        "if temperaturas:\n",
        "    media = sum(temperaturas) / len(temperaturas)\n",
        "    print(f\"Temperatura média em Celsius: {media:.2f}°C\")\n",
        "else:\n",
        "    print(\"Nenhum dado válido.\")\n"
      ]
    },
    {
      "cell_type": "markdown",
      "source": [
        "Q3\n",
        "\n",
        "    Adaptada desse tutorial de Pydantic criado por Axel Donath e Nick Langellier.\n",
        "\n",
        "Na célula a seguir, coletamos dados reais de uma das principais APIs de previsão do tempo, open-meteo. Não se preocupe em entender esse código, o mais importante é entender o resultado que ele retorna, ilustrado a seguir para uma coleta da temperatura dos últimos 15 dias em Itabira -MG. Caso deseje alterar a cidade de coleta, basta alimentar a latitude e longitude desejada, como nas opções a seguir.\n",
        "\n",
        "    Itabira: 'latitude': -19.656655787605846, 'longitude': -43.228922960534476\n",
        "    Bom Despacho: 'latitude': -19.726308457732443, 'longitude': -45.27462803349767\n",
        "\n",
        "{\n",
        "  \"latitude\": -19.5,\n",
        "  \"longitude\": -43.375,\n",
        "  \"generationtime_ms\": 0.01800060272216797,\n",
        "  \"utc_offset_seconds\": 0,\n",
        "  \"timezone\": \"GMT\",\n",
        "  \"timezone_abbreviation\": \"GMT\",\n",
        "  \"elevation\": 2.0,\n",
        "  \"hourly_units\": {\n",
        "    \"time\": \"iso8601\",\n",
        "    \"temperature_2m\": \"\\u00b0C\"\n",
        "  },\n",
        "  \"hourly\": {\n",
        "    \"time\": [\n",
        "      \"2024-07-19T00:00\",\n",
        "      \"2024-07-19T01:00\",\n",
        "      \"2024-07-19T02:00\",\n",
        "      ...\n",
        "    ],\n",
        "    \"temperature_2m\": [\n",
        "      21.9,\n",
        "      20.9,\n",
        "      20.0,\n",
        "      ...\n",
        "    ]\n",
        "  }\n",
        "}\n",
        "\n",
        "Você deve escrever um modelo Pydantic OpenMeteo que receba diretamente a resposta dessa API, através do comando:\n",
        "\n",
        "dados = OpenMeteo(**response)\n",
        "\n",
        "Para comportar a estrutura hierárquica desse dicionário (é um dicionário com alguns dicionários internos), você deve criar uma classe Pydantic para cada dicionário interno (HourlyUnits e Hourly), com seus respectivos atributos. Essas classes serão atributos da classe principal OpenMeteo, que terá também os outros atributos da resposta (latitude, longitude, etc.)."
      ],
      "metadata": {
        "id": "iv8FxG9tYVKP"
      }
    },
    {
      "cell_type": "code",
      "source": [
        "from pydantic import BaseModel\n",
        "from typing import List\n",
        "import requests\n",
        "from collections import defaultdict\n",
        "\n",
        "\n",
        "class HourlyUnits(BaseModel):\n",
        "    time: str\n",
        "    temperature_2m: str\n",
        "\n",
        "class Hourly(BaseModel):\n",
        "    time: List[str]\n",
        "    temperature_2m: List[float]\n",
        "\n",
        "class OpenMeteo(BaseModel):\n",
        "    latitude: float\n",
        "    longitude: float\n",
        "    generationtime_ms: float\n",
        "    utc_offset_seconds: int\n",
        "    timezone: str\n",
        "    timezone_abbreviation: str\n",
        "    elevation: float\n",
        "    hourly_units: HourlyUnits\n",
        "    hourly: Hourly\n",
        "\n",
        "\n",
        "def main():\n",
        "    url = 'https://api.open-meteo.com/v1/forecast'\n",
        "    lat, long = -19.656655787605846, -43.228922960534476\n",
        "    params = {\n",
        "        'latitude': lat,\n",
        "        'longitude': long,\n",
        "        'elevation': 2,\n",
        "        'hourly': 'temperature_2m',\n",
        "        'forecast_days': 15\n",
        "    }\n",
        "    response = requests.get(url, params=params).json()\n",
        "\n",
        "\n",
        "    dados = OpenMeteo(**response)\n",
        "\n",
        "    #temperaturas/dia\n",
        "    temp_por_dia = defaultdict(list)\n",
        "    for t_str, temp in zip(dados.hourly.time, dados.hourly.temperature_2m):\n",
        "        dia = t_str.split('T')[0]\n",
        "        temp_por_dia[dia].append(temp)\n",
        "\n",
        "    # média\n",
        "    media_diaria = {dia: sum(temps) / len(temps) for dia, temps in temp_por_dia.items()}\n",
        "    print(\"Histórico da média diária de temperatura (°C):\")\n",
        "    for dia in sorted(media_diaria):\n",
        "        print(f\"{dia}: {media_diaria[dia]:.2f} °C\")\n",
        "\n",
        "if __name__ == \"__main__\":\n",
        "    main()\n"
      ],
      "metadata": {
        "colab": {
          "base_uri": "https://localhost:8080/"
        },
        "id": "rVmL5xoRWXJh",
        "outputId": "6ed0df7f-1ac2-4c3f-e26b-f8c17e2ce6c0"
      },
      "execution_count": 43,
      "outputs": [
        {
          "output_type": "stream",
          "name": "stdout",
          "text": [
            "Histórico da média diária de temperatura (°C):\n",
            "2025-06-25: 20.92 °C\n",
            "2025-06-26: 21.06 °C\n",
            "2025-06-27: 21.07 °C\n",
            "2025-06-28: 21.15 °C\n",
            "2025-06-29: 22.26 °C\n",
            "2025-06-30: 22.43 °C\n",
            "2025-07-01: 21.86 °C\n",
            "2025-07-02: 21.66 °C\n",
            "2025-07-03: 21.56 °C\n",
            "2025-07-04: 21.05 °C\n",
            "2025-07-05: 20.63 °C\n",
            "2025-07-06: 20.99 °C\n",
            "2025-07-07: 22.72 °C\n",
            "2025-07-08: 20.87 °C\n",
            "2025-07-09: 22.02 °C\n"
          ]
        }
      ]
    },
    {
      "cell_type": "markdown",
      "source": [
        "Q4.\n",
        "\n",
        "Com os dados carregados na questão anterior plote um gráfico de linha, com a biblioteca de sua preferência, onde o eixo x são os timestamps (data e hora) e o eixo y é a temperatura medida."
      ],
      "metadata": {
        "id": "BIjqNnUUXTuH"
      }
    },
    {
      "cell_type": "code",
      "source": [
        "import plotly.graph_objects as go\n",
        "from datetime import datetime, timedelta\n",
        "\n",
        "datas = [datetime.fromisoformat(t) for t in dados.hourly.time]\n",
        "temperaturas = dados.hourly.temperature_2m\n",
        "hoje = datetime.now()\n",
        "limite = hoje - timedelta(days=15)\n",
        "datas_filtradas = []\n",
        "temperaturas_filtradas = []\n",
        "\n",
        "\n",
        "\n",
        "for dt, temp in zip(datas, temperaturas):\n",
        "    if dt >= limite:\n",
        "        datas_filtradas.append(dt)\n",
        "        temperaturas_filtradas.append(temp)\n",
        "\n",
        "\n",
        "fig = go.Figure()\n",
        "fig.add_trace(go.Scatter(\n",
        "    x=datas_filtradas,\n",
        "    y=temperaturas_filtradas,\n",
        "    mode='lines+markers',\n",
        "    name='Temperatura (°C)',\n",
        "    line=dict(color='royalblue')))\n",
        "\n",
        "fig.update_layout(\n",
        "    title='Temperatura - Itabira/MG',\n",
        "    xaxis_title='Data e Hora',\n",
        "    yaxis_title='Temperatura (°C)',\n",
        "    hovermode='x')\n",
        "\n",
        "fig.show()\n"
      ],
      "metadata": {
        "colab": {
          "base_uri": "https://localhost:8080/",
          "height": 542
        },
        "id": "TuV2P6IFa49i",
        "outputId": "07907b59-effb-4427-f023-a4eb2d714b12"
      },
      "execution_count": 48,
      "outputs": [
        {
          "output_type": "display_data",
          "data": {
            "text/html": [
              "<html>\n",
              "<head><meta charset=\"utf-8\" /></head>\n",
              "<body>\n",
              "    <div>            <script src=\"https://cdnjs.cloudflare.com/ajax/libs/mathjax/2.7.5/MathJax.js?config=TeX-AMS-MML_SVG\"></script><script type=\"text/javascript\">if (window.MathJax && window.MathJax.Hub && window.MathJax.Hub.Config) {window.MathJax.Hub.Config({SVG: {font: \"STIX-Web\"}});}</script>                <script type=\"text/javascript\">window.PlotlyConfig = {MathJaxConfig: 'local'};</script>\n",
              "        <script charset=\"utf-8\" src=\"https://cdn.plot.ly/plotly-2.35.2.min.js\"></script>                <div id=\"476c4a07-9135-4026-9a01-e6d9322efac6\" class=\"plotly-graph-div\" style=\"height:525px; width:100%;\"></div>            <script type=\"text/javascript\">                                    window.PLOTLYENV=window.PLOTLYENV || {};                                    if (document.getElementById(\"476c4a07-9135-4026-9a01-e6d9322efac6\")) {                    Plotly.newPlot(                        \"476c4a07-9135-4026-9a01-e6d9322efac6\",                        [{\"line\":{\"color\":\"royalblue\"},\"mode\":\"lines+markers\",\"name\":\"Temperatura (°C)\",\"x\":[\"2025-06-25T00:00:00\",\"2025-06-25T01:00:00\",\"2025-06-25T02:00:00\",\"2025-06-25T03:00:00\",\"2025-06-25T04:00:00\",\"2025-06-25T05:00:00\",\"2025-06-25T06:00:00\",\"2025-06-25T07:00:00\",\"2025-06-25T08:00:00\",\"2025-06-25T09:00:00\",\"2025-06-25T10:00:00\",\"2025-06-25T11:00:00\",\"2025-06-25T12:00:00\",\"2025-06-25T13:00:00\",\"2025-06-25T14:00:00\",\"2025-06-25T15:00:00\",\"2025-06-25T16:00:00\",\"2025-06-25T17:00:00\",\"2025-06-25T18:00:00\",\"2025-06-25T19:00:00\",\"2025-06-25T20:00:00\",\"2025-06-25T21:00:00\",\"2025-06-25T22:00:00\",\"2025-06-25T23:00:00\",\"2025-06-26T00:00:00\",\"2025-06-26T01:00:00\",\"2025-06-26T02:00:00\",\"2025-06-26T03:00:00\",\"2025-06-26T04:00:00\",\"2025-06-26T05:00:00\",\"2025-06-26T06:00:00\",\"2025-06-26T07:00:00\",\"2025-06-26T08:00:00\",\"2025-06-26T09:00:00\",\"2025-06-26T10:00:00\",\"2025-06-26T11:00:00\",\"2025-06-26T12:00:00\",\"2025-06-26T13:00:00\",\"2025-06-26T14:00:00\",\"2025-06-26T15:00:00\",\"2025-06-26T16:00:00\",\"2025-06-26T17:00:00\",\"2025-06-26T18:00:00\",\"2025-06-26T19:00:00\",\"2025-06-26T20:00:00\",\"2025-06-26T21:00:00\",\"2025-06-26T22:00:00\",\"2025-06-26T23:00:00\",\"2025-06-27T00:00:00\",\"2025-06-27T01:00:00\",\"2025-06-27T02:00:00\",\"2025-06-27T03:00:00\",\"2025-06-27T04:00:00\",\"2025-06-27T05:00:00\",\"2025-06-27T06:00:00\",\"2025-06-27T07:00:00\",\"2025-06-27T08:00:00\",\"2025-06-27T09:00:00\",\"2025-06-27T10:00:00\",\"2025-06-27T11:00:00\",\"2025-06-27T12:00:00\",\"2025-06-27T13:00:00\",\"2025-06-27T14:00:00\",\"2025-06-27T15:00:00\",\"2025-06-27T16:00:00\",\"2025-06-27T17:00:00\",\"2025-06-27T18:00:00\",\"2025-06-27T19:00:00\",\"2025-06-27T20:00:00\",\"2025-06-27T21:00:00\",\"2025-06-27T22:00:00\",\"2025-06-27T23:00:00\",\"2025-06-28T00:00:00\",\"2025-06-28T01:00:00\",\"2025-06-28T02:00:00\",\"2025-06-28T03:00:00\",\"2025-06-28T04:00:00\",\"2025-06-28T05:00:00\",\"2025-06-28T06:00:00\",\"2025-06-28T07:00:00\",\"2025-06-28T08:00:00\",\"2025-06-28T09:00:00\",\"2025-06-28T10:00:00\",\"2025-06-28T11:00:00\",\"2025-06-28T12:00:00\",\"2025-06-28T13:00:00\",\"2025-06-28T14:00:00\",\"2025-06-28T15:00:00\",\"2025-06-28T16:00:00\",\"2025-06-28T17:00:00\",\"2025-06-28T18:00:00\",\"2025-06-28T19:00:00\",\"2025-06-28T20:00:00\",\"2025-06-28T21:00:00\",\"2025-06-28T22:00:00\",\"2025-06-28T23:00:00\",\"2025-06-29T00:00:00\",\"2025-06-29T01:00:00\",\"2025-06-29T02:00:00\",\"2025-06-29T03:00:00\",\"2025-06-29T04:00:00\",\"2025-06-29T05:00:00\",\"2025-06-29T06:00:00\",\"2025-06-29T07:00:00\",\"2025-06-29T08:00:00\",\"2025-06-29T09:00:00\",\"2025-06-29T10:00:00\",\"2025-06-29T11:00:00\",\"2025-06-29T12:00:00\",\"2025-06-29T13:00:00\",\"2025-06-29T14:00:00\",\"2025-06-29T15:00:00\",\"2025-06-29T16:00:00\",\"2025-06-29T17:00:00\",\"2025-06-29T18:00:00\",\"2025-06-29T19:00:00\",\"2025-06-29T20:00:00\",\"2025-06-29T21:00:00\",\"2025-06-29T22:00:00\",\"2025-06-29T23:00:00\",\"2025-06-30T00:00:00\",\"2025-06-30T01:00:00\",\"2025-06-30T02:00:00\",\"2025-06-30T03:00:00\",\"2025-06-30T04:00:00\",\"2025-06-30T05:00:00\",\"2025-06-30T06:00:00\",\"2025-06-30T07:00:00\",\"2025-06-30T08:00:00\",\"2025-06-30T09:00:00\",\"2025-06-30T10:00:00\",\"2025-06-30T11:00:00\",\"2025-06-30T12:00:00\",\"2025-06-30T13:00:00\",\"2025-06-30T14:00:00\",\"2025-06-30T15:00:00\",\"2025-06-30T16:00:00\",\"2025-06-30T17:00:00\",\"2025-06-30T18:00:00\",\"2025-06-30T19:00:00\",\"2025-06-30T20:00:00\",\"2025-06-30T21:00:00\",\"2025-06-30T22:00:00\",\"2025-06-30T23:00:00\",\"2025-07-01T00:00:00\",\"2025-07-01T01:00:00\",\"2025-07-01T02:00:00\",\"2025-07-01T03:00:00\",\"2025-07-01T04:00:00\",\"2025-07-01T05:00:00\",\"2025-07-01T06:00:00\",\"2025-07-01T07:00:00\",\"2025-07-01T08:00:00\",\"2025-07-01T09:00:00\",\"2025-07-01T10:00:00\",\"2025-07-01T11:00:00\",\"2025-07-01T12:00:00\",\"2025-07-01T13:00:00\",\"2025-07-01T14:00:00\",\"2025-07-01T15:00:00\",\"2025-07-01T16:00:00\",\"2025-07-01T17:00:00\",\"2025-07-01T18:00:00\",\"2025-07-01T19:00:00\",\"2025-07-01T20:00:00\",\"2025-07-01T21:00:00\",\"2025-07-01T22:00:00\",\"2025-07-01T23:00:00\",\"2025-07-02T00:00:00\",\"2025-07-02T01:00:00\",\"2025-07-02T02:00:00\",\"2025-07-02T03:00:00\",\"2025-07-02T04:00:00\",\"2025-07-02T05:00:00\",\"2025-07-02T06:00:00\",\"2025-07-02T07:00:00\",\"2025-07-02T08:00:00\",\"2025-07-02T09:00:00\",\"2025-07-02T10:00:00\",\"2025-07-02T11:00:00\",\"2025-07-02T12:00:00\",\"2025-07-02T13:00:00\",\"2025-07-02T14:00:00\",\"2025-07-02T15:00:00\",\"2025-07-02T16:00:00\",\"2025-07-02T17:00:00\",\"2025-07-02T18:00:00\",\"2025-07-02T19:00:00\",\"2025-07-02T20:00:00\",\"2025-07-02T21:00:00\",\"2025-07-02T22:00:00\",\"2025-07-02T23:00:00\",\"2025-07-03T00:00:00\",\"2025-07-03T01:00:00\",\"2025-07-03T02:00:00\",\"2025-07-03T03:00:00\",\"2025-07-03T04:00:00\",\"2025-07-03T05:00:00\",\"2025-07-03T06:00:00\",\"2025-07-03T07:00:00\",\"2025-07-03T08:00:00\",\"2025-07-03T09:00:00\",\"2025-07-03T10:00:00\",\"2025-07-03T11:00:00\",\"2025-07-03T12:00:00\",\"2025-07-03T13:00:00\",\"2025-07-03T14:00:00\",\"2025-07-03T15:00:00\",\"2025-07-03T16:00:00\",\"2025-07-03T17:00:00\",\"2025-07-03T18:00:00\",\"2025-07-03T19:00:00\",\"2025-07-03T20:00:00\",\"2025-07-03T21:00:00\",\"2025-07-03T22:00:00\",\"2025-07-03T23:00:00\",\"2025-07-04T00:00:00\",\"2025-07-04T01:00:00\",\"2025-07-04T02:00:00\",\"2025-07-04T03:00:00\",\"2025-07-04T04:00:00\",\"2025-07-04T05:00:00\",\"2025-07-04T06:00:00\",\"2025-07-04T07:00:00\",\"2025-07-04T08:00:00\",\"2025-07-04T09:00:00\",\"2025-07-04T10:00:00\",\"2025-07-04T11:00:00\",\"2025-07-04T12:00:00\",\"2025-07-04T13:00:00\",\"2025-07-04T14:00:00\",\"2025-07-04T15:00:00\",\"2025-07-04T16:00:00\",\"2025-07-04T17:00:00\",\"2025-07-04T18:00:00\",\"2025-07-04T19:00:00\",\"2025-07-04T20:00:00\",\"2025-07-04T21:00:00\",\"2025-07-04T22:00:00\",\"2025-07-04T23:00:00\",\"2025-07-05T00:00:00\",\"2025-07-05T01:00:00\",\"2025-07-05T02:00:00\",\"2025-07-05T03:00:00\",\"2025-07-05T04:00:00\",\"2025-07-05T05:00:00\",\"2025-07-05T06:00:00\",\"2025-07-05T07:00:00\",\"2025-07-05T08:00:00\",\"2025-07-05T09:00:00\",\"2025-07-05T10:00:00\",\"2025-07-05T11:00:00\",\"2025-07-05T12:00:00\",\"2025-07-05T13:00:00\",\"2025-07-05T14:00:00\",\"2025-07-05T15:00:00\",\"2025-07-05T16:00:00\",\"2025-07-05T17:00:00\",\"2025-07-05T18:00:00\",\"2025-07-05T19:00:00\",\"2025-07-05T20:00:00\",\"2025-07-05T21:00:00\",\"2025-07-05T22:00:00\",\"2025-07-05T23:00:00\",\"2025-07-06T00:00:00\",\"2025-07-06T01:00:00\",\"2025-07-06T02:00:00\",\"2025-07-06T03:00:00\",\"2025-07-06T04:00:00\",\"2025-07-06T05:00:00\",\"2025-07-06T06:00:00\",\"2025-07-06T07:00:00\",\"2025-07-06T08:00:00\",\"2025-07-06T09:00:00\",\"2025-07-06T10:00:00\",\"2025-07-06T11:00:00\",\"2025-07-06T12:00:00\",\"2025-07-06T13:00:00\",\"2025-07-06T14:00:00\",\"2025-07-06T15:00:00\",\"2025-07-06T16:00:00\",\"2025-07-06T17:00:00\",\"2025-07-06T18:00:00\",\"2025-07-06T19:00:00\",\"2025-07-06T20:00:00\",\"2025-07-06T21:00:00\",\"2025-07-06T22:00:00\",\"2025-07-06T23:00:00\",\"2025-07-07T00:00:00\",\"2025-07-07T01:00:00\",\"2025-07-07T02:00:00\",\"2025-07-07T03:00:00\",\"2025-07-07T04:00:00\",\"2025-07-07T05:00:00\",\"2025-07-07T06:00:00\",\"2025-07-07T07:00:00\",\"2025-07-07T08:00:00\",\"2025-07-07T09:00:00\",\"2025-07-07T10:00:00\",\"2025-07-07T11:00:00\",\"2025-07-07T12:00:00\",\"2025-07-07T13:00:00\",\"2025-07-07T14:00:00\",\"2025-07-07T15:00:00\",\"2025-07-07T16:00:00\",\"2025-07-07T17:00:00\",\"2025-07-07T18:00:00\",\"2025-07-07T19:00:00\",\"2025-07-07T20:00:00\",\"2025-07-07T21:00:00\",\"2025-07-07T22:00:00\",\"2025-07-07T23:00:00\",\"2025-07-08T00:00:00\",\"2025-07-08T01:00:00\",\"2025-07-08T02:00:00\",\"2025-07-08T03:00:00\",\"2025-07-08T04:00:00\",\"2025-07-08T05:00:00\",\"2025-07-08T06:00:00\",\"2025-07-08T07:00:00\",\"2025-07-08T08:00:00\",\"2025-07-08T09:00:00\",\"2025-07-08T10:00:00\",\"2025-07-08T11:00:00\",\"2025-07-08T12:00:00\",\"2025-07-08T13:00:00\",\"2025-07-08T14:00:00\",\"2025-07-08T15:00:00\",\"2025-07-08T16:00:00\",\"2025-07-08T17:00:00\",\"2025-07-08T18:00:00\",\"2025-07-08T19:00:00\",\"2025-07-08T20:00:00\",\"2025-07-08T21:00:00\",\"2025-07-08T22:00:00\",\"2025-07-08T23:00:00\",\"2025-07-09T00:00:00\",\"2025-07-09T01:00:00\",\"2025-07-09T02:00:00\",\"2025-07-09T03:00:00\",\"2025-07-09T04:00:00\",\"2025-07-09T05:00:00\",\"2025-07-09T06:00:00\",\"2025-07-09T07:00:00\",\"2025-07-09T08:00:00\",\"2025-07-09T09:00:00\",\"2025-07-09T10:00:00\",\"2025-07-09T11:00:00\",\"2025-07-09T12:00:00\",\"2025-07-09T13:00:00\",\"2025-07-09T14:00:00\",\"2025-07-09T15:00:00\",\"2025-07-09T16:00:00\",\"2025-07-09T17:00:00\",\"2025-07-09T18:00:00\",\"2025-07-09T19:00:00\",\"2025-07-09T20:00:00\",\"2025-07-09T21:00:00\",\"2025-07-09T22:00:00\",\"2025-07-09T23:00:00\"],\"y\":[22.4,21.2,20.7,19.9,20.2,20.0,18.7,18.2,17.6,17.1,16.9,19.0,19.9,21.3,22.5,23.1,24.0,25.1,24.4,23.9,22.8,21.7,21.0,20.4,20.2,19.9,19.6,19.5,19.3,19.1,19.0,18.9,18.7,18.6,18.7,20.1,21.3,22.5,23.3,24.2,24.7,24.9,24.7,24.2,23.1,21.5,20.1,19.3,19.1,18.8,18.6,18.5,18.2,18.0,17.6,17.3,17.2,17.1,17.3,20.2,22.5,23.7,25.0,26.0,26.5,26.6,26.3,25.5,24.0,21.6,20.2,19.9,19.8,19.1,18.7,18.4,18.0,17.7,17.7,17.8,17.9,18.4,18.6,20.8,22.2,23.1,24.0,24.9,25.7,25.9,25.7,25.1,23.7,22.3,21.4,20.8,20.8,20.7,20.7,20.7,20.5,20.2,19.8,19.2,18.5,18.4,19.1,20.4,21.7,23.2,24.8,26.1,27.0,27.5,27.4,26.4,24.7,23.2,22.1,21.1,20.4,20.1,20.0,19.9,19.5,18.9,18.5,18.0,17.6,17.9,19.6,22.1,24.2,25.7,26.8,27.5,27.8,27.8,27.7,26.6,24.7,23.1,22.2,21.7,21.2,20.7,20.1,19.6,19.2,18.8,18.4,17.9,17.5,17.7,19.1,21.2,23.1,24.3,25.1,25.8,26.3,26.5,26.3,25.3,23.8,22.6,22.1,22.0,21.9,21.5,21.0,20.5,20.1,19.7,19.5,19.3,19.2,19.3,19.8,20.5,21.2,22.0,22.8,23.6,24.3,24.8,25.0,24.4,23.4,22.5,22.0,21.5,21.2,17.8,17.5,17.2,16.9,16.6,16.4,15.8,15.2,15.6,17.5,20.3,23.1,25.5,27.9,29.6,30.7,31.1,30.5,27.9,24.2,21.2,19.4,18.3,17.5,16.8,16.5,16.2,15.9,15.6,15.4,14.8,14.2,14.7,17.0,20.3,23.4,25.7,27.6,29.1,30.0,30.4,29.9,27.8,24.7,22.1,20.4,19.2,18.2,17.5,17.0,16.6,16.1,15.6,15.2,14.6,14.2,14.7,16.8,19.8,22.6,24.9,27.0,28.5,29.4,29.8,29.2,26.8,23.3,20.5,18.9,17.9,17.2,16.8,16.7,16.6,16.3,16.0,15.8,15.4,15.1,15.6,17.5,20.2,22.8,24.9,26.8,28.3,29.3,29.8,29.4,27.3,24.2,21.7,20.4,19.7,19.3,19.2,19.4,19.6,19.4,19.2,19.1,19.1,19.2,19.6,20.3,21.4,22.8,24.8,27.1,29.0,30.2,30.9,30.5,28.1,24.6,21.9,20.6,20.0,19.6,19.0,18.5,18.1,17.7,17.3,17.1,16.8,16.6,16.9,17.8,19.1,20.5,21.7,23.0,24.3,26.1,27.9,28.6,27.1,24.4,22.1,20.8,19.9,19.2,18.6,18.3,18.0,17.7,17.4,17.2,16.8,16.4,16.9,18.8,21.6,24.2,26.2,28.0,29.2,29.8,30.0,29.3,27.2,24.4,22.1,20.9,20.2],\"type\":\"scatter\"}],                        {\"template\":{\"data\":{\"histogram2dcontour\":[{\"type\":\"histogram2dcontour\",\"colorbar\":{\"outlinewidth\":0,\"ticks\":\"\"},\"colorscale\":[[0.0,\"#0d0887\"],[0.1111111111111111,\"#46039f\"],[0.2222222222222222,\"#7201a8\"],[0.3333333333333333,\"#9c179e\"],[0.4444444444444444,\"#bd3786\"],[0.5555555555555556,\"#d8576b\"],[0.6666666666666666,\"#ed7953\"],[0.7777777777777778,\"#fb9f3a\"],[0.8888888888888888,\"#fdca26\"],[1.0,\"#f0f921\"]]}],\"choropleth\":[{\"type\":\"choropleth\",\"colorbar\":{\"outlinewidth\":0,\"ticks\":\"\"}}],\"histogram2d\":[{\"type\":\"histogram2d\",\"colorbar\":{\"outlinewidth\":0,\"ticks\":\"\"},\"colorscale\":[[0.0,\"#0d0887\"],[0.1111111111111111,\"#46039f\"],[0.2222222222222222,\"#7201a8\"],[0.3333333333333333,\"#9c179e\"],[0.4444444444444444,\"#bd3786\"],[0.5555555555555556,\"#d8576b\"],[0.6666666666666666,\"#ed7953\"],[0.7777777777777778,\"#fb9f3a\"],[0.8888888888888888,\"#fdca26\"],[1.0,\"#f0f921\"]]}],\"heatmap\":[{\"type\":\"heatmap\",\"colorbar\":{\"outlinewidth\":0,\"ticks\":\"\"},\"colorscale\":[[0.0,\"#0d0887\"],[0.1111111111111111,\"#46039f\"],[0.2222222222222222,\"#7201a8\"],[0.3333333333333333,\"#9c179e\"],[0.4444444444444444,\"#bd3786\"],[0.5555555555555556,\"#d8576b\"],[0.6666666666666666,\"#ed7953\"],[0.7777777777777778,\"#fb9f3a\"],[0.8888888888888888,\"#fdca26\"],[1.0,\"#f0f921\"]]}],\"heatmapgl\":[{\"type\":\"heatmapgl\",\"colorbar\":{\"outlinewidth\":0,\"ticks\":\"\"},\"colorscale\":[[0.0,\"#0d0887\"],[0.1111111111111111,\"#46039f\"],[0.2222222222222222,\"#7201a8\"],[0.3333333333333333,\"#9c179e\"],[0.4444444444444444,\"#bd3786\"],[0.5555555555555556,\"#d8576b\"],[0.6666666666666666,\"#ed7953\"],[0.7777777777777778,\"#fb9f3a\"],[0.8888888888888888,\"#fdca26\"],[1.0,\"#f0f921\"]]}],\"contourcarpet\":[{\"type\":\"contourcarpet\",\"colorbar\":{\"outlinewidth\":0,\"ticks\":\"\"}}],\"contour\":[{\"type\":\"contour\",\"colorbar\":{\"outlinewidth\":0,\"ticks\":\"\"},\"colorscale\":[[0.0,\"#0d0887\"],[0.1111111111111111,\"#46039f\"],[0.2222222222222222,\"#7201a8\"],[0.3333333333333333,\"#9c179e\"],[0.4444444444444444,\"#bd3786\"],[0.5555555555555556,\"#d8576b\"],[0.6666666666666666,\"#ed7953\"],[0.7777777777777778,\"#fb9f3a\"],[0.8888888888888888,\"#fdca26\"],[1.0,\"#f0f921\"]]}],\"surface\":[{\"type\":\"surface\",\"colorbar\":{\"outlinewidth\":0,\"ticks\":\"\"},\"colorscale\":[[0.0,\"#0d0887\"],[0.1111111111111111,\"#46039f\"],[0.2222222222222222,\"#7201a8\"],[0.3333333333333333,\"#9c179e\"],[0.4444444444444444,\"#bd3786\"],[0.5555555555555556,\"#d8576b\"],[0.6666666666666666,\"#ed7953\"],[0.7777777777777778,\"#fb9f3a\"],[0.8888888888888888,\"#fdca26\"],[1.0,\"#f0f921\"]]}],\"mesh3d\":[{\"type\":\"mesh3d\",\"colorbar\":{\"outlinewidth\":0,\"ticks\":\"\"}}],\"scatter\":[{\"fillpattern\":{\"fillmode\":\"overlay\",\"size\":10,\"solidity\":0.2},\"type\":\"scatter\"}],\"parcoords\":[{\"type\":\"parcoords\",\"line\":{\"colorbar\":{\"outlinewidth\":0,\"ticks\":\"\"}}}],\"scatterpolargl\":[{\"type\":\"scatterpolargl\",\"marker\":{\"colorbar\":{\"outlinewidth\":0,\"ticks\":\"\"}}}],\"bar\":[{\"error_x\":{\"color\":\"#2a3f5f\"},\"error_y\":{\"color\":\"#2a3f5f\"},\"marker\":{\"line\":{\"color\":\"#E5ECF6\",\"width\":0.5},\"pattern\":{\"fillmode\":\"overlay\",\"size\":10,\"solidity\":0.2}},\"type\":\"bar\"}],\"scattergeo\":[{\"type\":\"scattergeo\",\"marker\":{\"colorbar\":{\"outlinewidth\":0,\"ticks\":\"\"}}}],\"scatterpolar\":[{\"type\":\"scatterpolar\",\"marker\":{\"colorbar\":{\"outlinewidth\":0,\"ticks\":\"\"}}}],\"histogram\":[{\"marker\":{\"pattern\":{\"fillmode\":\"overlay\",\"size\":10,\"solidity\":0.2}},\"type\":\"histogram\"}],\"scattergl\":[{\"type\":\"scattergl\",\"marker\":{\"colorbar\":{\"outlinewidth\":0,\"ticks\":\"\"}}}],\"scatter3d\":[{\"type\":\"scatter3d\",\"line\":{\"colorbar\":{\"outlinewidth\":0,\"ticks\":\"\"}},\"marker\":{\"colorbar\":{\"outlinewidth\":0,\"ticks\":\"\"}}}],\"scattermapbox\":[{\"type\":\"scattermapbox\",\"marker\":{\"colorbar\":{\"outlinewidth\":0,\"ticks\":\"\"}}}],\"scatterternary\":[{\"type\":\"scatterternary\",\"marker\":{\"colorbar\":{\"outlinewidth\":0,\"ticks\":\"\"}}}],\"scattercarpet\":[{\"type\":\"scattercarpet\",\"marker\":{\"colorbar\":{\"outlinewidth\":0,\"ticks\":\"\"}}}],\"carpet\":[{\"aaxis\":{\"endlinecolor\":\"#2a3f5f\",\"gridcolor\":\"white\",\"linecolor\":\"white\",\"minorgridcolor\":\"white\",\"startlinecolor\":\"#2a3f5f\"},\"baxis\":{\"endlinecolor\":\"#2a3f5f\",\"gridcolor\":\"white\",\"linecolor\":\"white\",\"minorgridcolor\":\"white\",\"startlinecolor\":\"#2a3f5f\"},\"type\":\"carpet\"}],\"table\":[{\"cells\":{\"fill\":{\"color\":\"#EBF0F8\"},\"line\":{\"color\":\"white\"}},\"header\":{\"fill\":{\"color\":\"#C8D4E3\"},\"line\":{\"color\":\"white\"}},\"type\":\"table\"}],\"barpolar\":[{\"marker\":{\"line\":{\"color\":\"#E5ECF6\",\"width\":0.5},\"pattern\":{\"fillmode\":\"overlay\",\"size\":10,\"solidity\":0.2}},\"type\":\"barpolar\"}],\"pie\":[{\"automargin\":true,\"type\":\"pie\"}]},\"layout\":{\"autotypenumbers\":\"strict\",\"colorway\":[\"#636efa\",\"#EF553B\",\"#00cc96\",\"#ab63fa\",\"#FFA15A\",\"#19d3f3\",\"#FF6692\",\"#B6E880\",\"#FF97FF\",\"#FECB52\"],\"font\":{\"color\":\"#2a3f5f\"},\"hovermode\":\"closest\",\"hoverlabel\":{\"align\":\"left\"},\"paper_bgcolor\":\"white\",\"plot_bgcolor\":\"#E5ECF6\",\"polar\":{\"bgcolor\":\"#E5ECF6\",\"angularaxis\":{\"gridcolor\":\"white\",\"linecolor\":\"white\",\"ticks\":\"\"},\"radialaxis\":{\"gridcolor\":\"white\",\"linecolor\":\"white\",\"ticks\":\"\"}},\"ternary\":{\"bgcolor\":\"#E5ECF6\",\"aaxis\":{\"gridcolor\":\"white\",\"linecolor\":\"white\",\"ticks\":\"\"},\"baxis\":{\"gridcolor\":\"white\",\"linecolor\":\"white\",\"ticks\":\"\"},\"caxis\":{\"gridcolor\":\"white\",\"linecolor\":\"white\",\"ticks\":\"\"}},\"coloraxis\":{\"colorbar\":{\"outlinewidth\":0,\"ticks\":\"\"}},\"colorscale\":{\"sequential\":[[0.0,\"#0d0887\"],[0.1111111111111111,\"#46039f\"],[0.2222222222222222,\"#7201a8\"],[0.3333333333333333,\"#9c179e\"],[0.4444444444444444,\"#bd3786\"],[0.5555555555555556,\"#d8576b\"],[0.6666666666666666,\"#ed7953\"],[0.7777777777777778,\"#fb9f3a\"],[0.8888888888888888,\"#fdca26\"],[1.0,\"#f0f921\"]],\"sequentialminus\":[[0.0,\"#0d0887\"],[0.1111111111111111,\"#46039f\"],[0.2222222222222222,\"#7201a8\"],[0.3333333333333333,\"#9c179e\"],[0.4444444444444444,\"#bd3786\"],[0.5555555555555556,\"#d8576b\"],[0.6666666666666666,\"#ed7953\"],[0.7777777777777778,\"#fb9f3a\"],[0.8888888888888888,\"#fdca26\"],[1.0,\"#f0f921\"]],\"diverging\":[[0,\"#8e0152\"],[0.1,\"#c51b7d\"],[0.2,\"#de77ae\"],[0.3,\"#f1b6da\"],[0.4,\"#fde0ef\"],[0.5,\"#f7f7f7\"],[0.6,\"#e6f5d0\"],[0.7,\"#b8e186\"],[0.8,\"#7fbc41\"],[0.9,\"#4d9221\"],[1,\"#276419\"]]},\"xaxis\":{\"gridcolor\":\"white\",\"linecolor\":\"white\",\"ticks\":\"\",\"title\":{\"standoff\":15},\"zerolinecolor\":\"white\",\"automargin\":true,\"zerolinewidth\":2},\"yaxis\":{\"gridcolor\":\"white\",\"linecolor\":\"white\",\"ticks\":\"\",\"title\":{\"standoff\":15},\"zerolinecolor\":\"white\",\"automargin\":true,\"zerolinewidth\":2},\"scene\":{\"xaxis\":{\"backgroundcolor\":\"#E5ECF6\",\"gridcolor\":\"white\",\"linecolor\":\"white\",\"showbackground\":true,\"ticks\":\"\",\"zerolinecolor\":\"white\",\"gridwidth\":2},\"yaxis\":{\"backgroundcolor\":\"#E5ECF6\",\"gridcolor\":\"white\",\"linecolor\":\"white\",\"showbackground\":true,\"ticks\":\"\",\"zerolinecolor\":\"white\",\"gridwidth\":2},\"zaxis\":{\"backgroundcolor\":\"#E5ECF6\",\"gridcolor\":\"white\",\"linecolor\":\"white\",\"showbackground\":true,\"ticks\":\"\",\"zerolinecolor\":\"white\",\"gridwidth\":2}},\"shapedefaults\":{\"line\":{\"color\":\"#2a3f5f\"}},\"annotationdefaults\":{\"arrowcolor\":\"#2a3f5f\",\"arrowhead\":0,\"arrowwidth\":1},\"geo\":{\"bgcolor\":\"white\",\"landcolor\":\"#E5ECF6\",\"subunitcolor\":\"white\",\"showland\":true,\"showlakes\":true,\"lakecolor\":\"white\"},\"title\":{\"x\":0.05},\"mapbox\":{\"style\":\"light\"}}},\"title\":{\"text\":\"Temperatura - Itabira\\u002fMG\"},\"xaxis\":{\"title\":{\"text\":\"Data e Hora\"}},\"yaxis\":{\"title\":{\"text\":\"Temperatura (°C)\"}},\"hovermode\":\"x\"},                        {\"responsive\": true}                    ).then(function(){\n",
              "                            \n",
              "var gd = document.getElementById('476c4a07-9135-4026-9a01-e6d9322efac6');\n",
              "var x = new MutationObserver(function (mutations, observer) {{\n",
              "        var display = window.getComputedStyle(gd).display;\n",
              "        if (!display || display === 'none') {{\n",
              "            console.log([gd, 'removed!']);\n",
              "            Plotly.purge(gd);\n",
              "            observer.disconnect();\n",
              "        }}\n",
              "}});\n",
              "\n",
              "// Listen for the removal of the full notebook cells\n",
              "var notebookContainer = gd.closest('#notebook-container');\n",
              "if (notebookContainer) {{\n",
              "    x.observe(notebookContainer, {childList: true});\n",
              "}}\n",
              "\n",
              "// Listen for the clearing of the current output cell\n",
              "var outputEl = gd.closest('.output');\n",
              "if (outputEl) {{\n",
              "    x.observe(outputEl, {childList: true});\n",
              "}}\n",
              "\n",
              "                        })                };                            </script>        </div>\n",
              "</body>\n",
              "</html>"
            ]
          },
          "metadata": {}
        }
      ]
    }
  ]
}