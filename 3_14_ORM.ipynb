{
  "cells": [
    {
      "cell_type": "markdown",
      "metadata": {
        "id": "view-in-github",
        "colab_type": "text"
      },
      "source": [
        "<a href=\"https://colab.research.google.com/github/WesleyVictors/python2/blob/main/3_14_ORM.ipynb\" target=\"_parent\"><img src=\"https://colab.research.google.com/assets/colab-badge.svg\" alt=\"Open In Colab\"/></a>"
      ]
    },
    {
      "cell_type": "markdown",
      "metadata": {
        "id": "BRrFfGVLHM4z"
      },
      "source": [
        "> Projeto Desenvolve <br>\n",
        "Programação Intermediária com Python <br>\n",
        "Profa. Camila Laranjeira (mila@projetodesenvolve.com.br) <br>\n",
        "\n",
        "# 3.14 - ORM"
      ]
    },
    {
      "cell_type": "markdown",
      "metadata": {
        "id": "nRtEqgrcHM41"
      },
      "source": [
        "## Exercícios\n",
        "\n",
        "#### Q1. Conhecendo os dados\n",
        "Baixe o seguinte csv onde iremos trabalhar. Ele contém informações sobre salários de profissionais de dados de uma empresa hipotética entre 2009 e 2016\n",
        "* https://github.com/camilalaranjeira/python-intermediario/blob/main/salaries.csv\n",
        "\n",
        "Suas colunas, descritas na [página do Kaggle que contém o dataset](https://www.kaggle.com/datasets/krishujeniya/salary-prediction-of-data-professions?resource=download), são:\n",
        "* FIRST NAME: Primeiro nome do profissional de dados (String)\n",
        "* LAST NAME: Sobrenome do profissional de dados (String)\n",
        "* SEX: Gênero do profissional de dados (String: 'F' para Feminino, 'M' para Masculino)\n",
        "* DOJ (Date of Joining): A data em que o profissional de dados ingressou na empresa (Data no formato MM/DD/AAAA)\n",
        "* CURRENT DATE: A data atual ou a data de referência dos dados (Data no formato MM/DD/AAAA)\n",
        "* DESIGNATION: O cargo ou designação do profissional de dados (String: ex., Analista, Analista Sênior, Gerente)\n",
        "* AGE: Idade do profissional de dados (Integer)\n",
        "* SALARY: Salário anual do profissional de dados (Float)\n",
        "* UNIT: Unidade de negócios ou departamento em que o profissional de dados trabalha (String: ex., TI, Finanças, Marketing)\n",
        "* LEAVES USED: Número de licenças utilizadas pelo profissional de dados (Integer)\n",
        "* LEAVES REMAINING: Número de licenças restantes para o profissional de dados (Integer)\n",
        "* RATINGS: Avaliações de desempenho do profissional de dados (Float)\n",
        "* PAST EXP: Experiência de trabalho anterior em anos antes de ingressar na empresa atual (Float)\n",
        "\n",
        "Na célula a seguir, **carregue os dados do CSV e dê uma olhada neles antes de seguir**."
      ]
    },
    {
      "cell_type": "code",
      "execution_count": 104,
      "metadata": {
        "vscode": {
          "languageId": "plaintext"
        },
        "colab": {
          "base_uri": "https://localhost:8080/",
          "height": 206
        },
        "id": "qfPmL5lyHM42",
        "outputId": "4b5b74ce-90f4-465a-bda0-582cff4d3465"
      },
      "outputs": [
        {
          "output_type": "display_data",
          "data": {
            "text/plain": [
              "  first_name   last_name sex         doj current_date designation   age  \\\n",
              "0     TOMASA       ARMEN   F   5-18-2014   01-07-2016     Analyst  21.0   \n",
              "1      ANNIE         NaN   F         NaN   01-07-2016   Associate   NaN   \n",
              "2      OLIVE        ANCY   F   7-28-2014   01-07-2016     Analyst  21.0   \n",
              "3     CHERRY     AQUILAR   F  04-03-2013   01-07-2016     Analyst  22.0   \n",
              "4       LEON  ABOULAHOUD   M  11-20-2014   01-07-2016     Analyst   NaN   \n",
              "\n",
              "   salary        unit  leaves_used  leaves_remaining  ratings  past_exp  \n",
              "0   44570     Finance         24.0               6.0      2.0         0  \n",
              "1   89207         Web          NaN              13.0      NaN         7  \n",
              "2   40955     Finance         23.0               7.0      3.0         0  \n",
              "3   45550          IT         22.0               8.0      3.0         0  \n",
              "4   43161  Operations         27.0               3.0      NaN         3  "
            ],
            "text/html": [
              "\n",
              "  <div id=\"df-98c74de7-3b70-44ba-bf25-24123ea580e7\" class=\"colab-df-container\">\n",
              "    <div>\n",
              "<style scoped>\n",
              "    .dataframe tbody tr th:only-of-type {\n",
              "        vertical-align: middle;\n",
              "    }\n",
              "\n",
              "    .dataframe tbody tr th {\n",
              "        vertical-align: top;\n",
              "    }\n",
              "\n",
              "    .dataframe thead th {\n",
              "        text-align: right;\n",
              "    }\n",
              "</style>\n",
              "<table border=\"1\" class=\"dataframe\">\n",
              "  <thead>\n",
              "    <tr style=\"text-align: right;\">\n",
              "      <th></th>\n",
              "      <th>first_name</th>\n",
              "      <th>last_name</th>\n",
              "      <th>sex</th>\n",
              "      <th>doj</th>\n",
              "      <th>current_date</th>\n",
              "      <th>designation</th>\n",
              "      <th>age</th>\n",
              "      <th>salary</th>\n",
              "      <th>unit</th>\n",
              "      <th>leaves_used</th>\n",
              "      <th>leaves_remaining</th>\n",
              "      <th>ratings</th>\n",
              "      <th>past_exp</th>\n",
              "    </tr>\n",
              "  </thead>\n",
              "  <tbody>\n",
              "    <tr>\n",
              "      <th>0</th>\n",
              "      <td>TOMASA</td>\n",
              "      <td>ARMEN</td>\n",
              "      <td>F</td>\n",
              "      <td>5-18-2014</td>\n",
              "      <td>01-07-2016</td>\n",
              "      <td>Analyst</td>\n",
              "      <td>21.0</td>\n",
              "      <td>44570</td>\n",
              "      <td>Finance</td>\n",
              "      <td>24.0</td>\n",
              "      <td>6.0</td>\n",
              "      <td>2.0</td>\n",
              "      <td>0</td>\n",
              "    </tr>\n",
              "    <tr>\n",
              "      <th>1</th>\n",
              "      <td>ANNIE</td>\n",
              "      <td>NaN</td>\n",
              "      <td>F</td>\n",
              "      <td>NaN</td>\n",
              "      <td>01-07-2016</td>\n",
              "      <td>Associate</td>\n",
              "      <td>NaN</td>\n",
              "      <td>89207</td>\n",
              "      <td>Web</td>\n",
              "      <td>NaN</td>\n",
              "      <td>13.0</td>\n",
              "      <td>NaN</td>\n",
              "      <td>7</td>\n",
              "    </tr>\n",
              "    <tr>\n",
              "      <th>2</th>\n",
              "      <td>OLIVE</td>\n",
              "      <td>ANCY</td>\n",
              "      <td>F</td>\n",
              "      <td>7-28-2014</td>\n",
              "      <td>01-07-2016</td>\n",
              "      <td>Analyst</td>\n",
              "      <td>21.0</td>\n",
              "      <td>40955</td>\n",
              "      <td>Finance</td>\n",
              "      <td>23.0</td>\n",
              "      <td>7.0</td>\n",
              "      <td>3.0</td>\n",
              "      <td>0</td>\n",
              "    </tr>\n",
              "    <tr>\n",
              "      <th>3</th>\n",
              "      <td>CHERRY</td>\n",
              "      <td>AQUILAR</td>\n",
              "      <td>F</td>\n",
              "      <td>04-03-2013</td>\n",
              "      <td>01-07-2016</td>\n",
              "      <td>Analyst</td>\n",
              "      <td>22.0</td>\n",
              "      <td>45550</td>\n",
              "      <td>IT</td>\n",
              "      <td>22.0</td>\n",
              "      <td>8.0</td>\n",
              "      <td>3.0</td>\n",
              "      <td>0</td>\n",
              "    </tr>\n",
              "    <tr>\n",
              "      <th>4</th>\n",
              "      <td>LEON</td>\n",
              "      <td>ABOULAHOUD</td>\n",
              "      <td>M</td>\n",
              "      <td>11-20-2014</td>\n",
              "      <td>01-07-2016</td>\n",
              "      <td>Analyst</td>\n",
              "      <td>NaN</td>\n",
              "      <td>43161</td>\n",
              "      <td>Operations</td>\n",
              "      <td>27.0</td>\n",
              "      <td>3.0</td>\n",
              "      <td>NaN</td>\n",
              "      <td>3</td>\n",
              "    </tr>\n",
              "  </tbody>\n",
              "</table>\n",
              "</div>\n",
              "    <div class=\"colab-df-buttons\">\n",
              "\n",
              "  <div class=\"colab-df-container\">\n",
              "    <button class=\"colab-df-convert\" onclick=\"convertToInteractive('df-98c74de7-3b70-44ba-bf25-24123ea580e7')\"\n",
              "            title=\"Convert this dataframe to an interactive table.\"\n",
              "            style=\"display:none;\">\n",
              "\n",
              "  <svg xmlns=\"http://www.w3.org/2000/svg\" height=\"24px\" viewBox=\"0 -960 960 960\">\n",
              "    <path d=\"M120-120v-720h720v720H120Zm60-500h600v-160H180v160Zm220 220h160v-160H400v160Zm0 220h160v-160H400v160ZM180-400h160v-160H180v160Zm440 0h160v-160H620v160ZM180-180h160v-160H180v160Zm440 0h160v-160H620v160Z\"/>\n",
              "  </svg>\n",
              "    </button>\n",
              "\n",
              "  <style>\n",
              "    .colab-df-container {\n",
              "      display:flex;\n",
              "      gap: 12px;\n",
              "    }\n",
              "\n",
              "    .colab-df-convert {\n",
              "      background-color: #E8F0FE;\n",
              "      border: none;\n",
              "      border-radius: 50%;\n",
              "      cursor: pointer;\n",
              "      display: none;\n",
              "      fill: #1967D2;\n",
              "      height: 32px;\n",
              "      padding: 0 0 0 0;\n",
              "      width: 32px;\n",
              "    }\n",
              "\n",
              "    .colab-df-convert:hover {\n",
              "      background-color: #E2EBFA;\n",
              "      box-shadow: 0px 1px 2px rgba(60, 64, 67, 0.3), 0px 1px 3px 1px rgba(60, 64, 67, 0.15);\n",
              "      fill: #174EA6;\n",
              "    }\n",
              "\n",
              "    .colab-df-buttons div {\n",
              "      margin-bottom: 4px;\n",
              "    }\n",
              "\n",
              "    [theme=dark] .colab-df-convert {\n",
              "      background-color: #3B4455;\n",
              "      fill: #D2E3FC;\n",
              "    }\n",
              "\n",
              "    [theme=dark] .colab-df-convert:hover {\n",
              "      background-color: #434B5C;\n",
              "      box-shadow: 0px 1px 3px 1px rgba(0, 0, 0, 0.15);\n",
              "      filter: drop-shadow(0px 1px 2px rgba(0, 0, 0, 0.3));\n",
              "      fill: #FFFFFF;\n",
              "    }\n",
              "  </style>\n",
              "\n",
              "    <script>\n",
              "      const buttonEl =\n",
              "        document.querySelector('#df-98c74de7-3b70-44ba-bf25-24123ea580e7 button.colab-df-convert');\n",
              "      buttonEl.style.display =\n",
              "        google.colab.kernel.accessAllowed ? 'block' : 'none';\n",
              "\n",
              "      async function convertToInteractive(key) {\n",
              "        const element = document.querySelector('#df-98c74de7-3b70-44ba-bf25-24123ea580e7');\n",
              "        const dataTable =\n",
              "          await google.colab.kernel.invokeFunction('convertToInteractive',\n",
              "                                                    [key], {});\n",
              "        if (!dataTable) return;\n",
              "\n",
              "        const docLinkHtml = 'Like what you see? Visit the ' +\n",
              "          '<a target=\"_blank\" href=https://colab.research.google.com/notebooks/data_table.ipynb>data table notebook</a>'\n",
              "          + ' to learn more about interactive tables.';\n",
              "        element.innerHTML = '';\n",
              "        dataTable['output_type'] = 'display_data';\n",
              "        await google.colab.output.renderOutput(dataTable, element);\n",
              "        const docLink = document.createElement('div');\n",
              "        docLink.innerHTML = docLinkHtml;\n",
              "        element.appendChild(docLink);\n",
              "      }\n",
              "    </script>\n",
              "  </div>\n",
              "\n",
              "\n",
              "    <div id=\"df-71700340-b112-4412-8ffc-743f200ce0e5\">\n",
              "      <button class=\"colab-df-quickchart\" onclick=\"quickchart('df-71700340-b112-4412-8ffc-743f200ce0e5')\"\n",
              "                title=\"Suggest charts\"\n",
              "                style=\"display:none;\">\n",
              "\n",
              "<svg xmlns=\"http://www.w3.org/2000/svg\" height=\"24px\"viewBox=\"0 0 24 24\"\n",
              "     width=\"24px\">\n",
              "    <g>\n",
              "        <path d=\"M19 3H5c-1.1 0-2 .9-2 2v14c0 1.1.9 2 2 2h14c1.1 0 2-.9 2-2V5c0-1.1-.9-2-2-2zM9 17H7v-7h2v7zm4 0h-2V7h2v10zm4 0h-2v-4h2v4z\"/>\n",
              "    </g>\n",
              "</svg>\n",
              "      </button>\n",
              "\n",
              "<style>\n",
              "  .colab-df-quickchart {\n",
              "      --bg-color: #E8F0FE;\n",
              "      --fill-color: #1967D2;\n",
              "      --hover-bg-color: #E2EBFA;\n",
              "      --hover-fill-color: #174EA6;\n",
              "      --disabled-fill-color: #AAA;\n",
              "      --disabled-bg-color: #DDD;\n",
              "  }\n",
              "\n",
              "  [theme=dark] .colab-df-quickchart {\n",
              "      --bg-color: #3B4455;\n",
              "      --fill-color: #D2E3FC;\n",
              "      --hover-bg-color: #434B5C;\n",
              "      --hover-fill-color: #FFFFFF;\n",
              "      --disabled-bg-color: #3B4455;\n",
              "      --disabled-fill-color: #666;\n",
              "  }\n",
              "\n",
              "  .colab-df-quickchart {\n",
              "    background-color: var(--bg-color);\n",
              "    border: none;\n",
              "    border-radius: 50%;\n",
              "    cursor: pointer;\n",
              "    display: none;\n",
              "    fill: var(--fill-color);\n",
              "    height: 32px;\n",
              "    padding: 0;\n",
              "    width: 32px;\n",
              "  }\n",
              "\n",
              "  .colab-df-quickchart:hover {\n",
              "    background-color: var(--hover-bg-color);\n",
              "    box-shadow: 0 1px 2px rgba(60, 64, 67, 0.3), 0 1px 3px 1px rgba(60, 64, 67, 0.15);\n",
              "    fill: var(--button-hover-fill-color);\n",
              "  }\n",
              "\n",
              "  .colab-df-quickchart-complete:disabled,\n",
              "  .colab-df-quickchart-complete:disabled:hover {\n",
              "    background-color: var(--disabled-bg-color);\n",
              "    fill: var(--disabled-fill-color);\n",
              "    box-shadow: none;\n",
              "  }\n",
              "\n",
              "  .colab-df-spinner {\n",
              "    border: 2px solid var(--fill-color);\n",
              "    border-color: transparent;\n",
              "    border-bottom-color: var(--fill-color);\n",
              "    animation:\n",
              "      spin 1s steps(1) infinite;\n",
              "  }\n",
              "\n",
              "  @keyframes spin {\n",
              "    0% {\n",
              "      border-color: transparent;\n",
              "      border-bottom-color: var(--fill-color);\n",
              "      border-left-color: var(--fill-color);\n",
              "    }\n",
              "    20% {\n",
              "      border-color: transparent;\n",
              "      border-left-color: var(--fill-color);\n",
              "      border-top-color: var(--fill-color);\n",
              "    }\n",
              "    30% {\n",
              "      border-color: transparent;\n",
              "      border-left-color: var(--fill-color);\n",
              "      border-top-color: var(--fill-color);\n",
              "      border-right-color: var(--fill-color);\n",
              "    }\n",
              "    40% {\n",
              "      border-color: transparent;\n",
              "      border-right-color: var(--fill-color);\n",
              "      border-top-color: var(--fill-color);\n",
              "    }\n",
              "    60% {\n",
              "      border-color: transparent;\n",
              "      border-right-color: var(--fill-color);\n",
              "    }\n",
              "    80% {\n",
              "      border-color: transparent;\n",
              "      border-right-color: var(--fill-color);\n",
              "      border-bottom-color: var(--fill-color);\n",
              "    }\n",
              "    90% {\n",
              "      border-color: transparent;\n",
              "      border-bottom-color: var(--fill-color);\n",
              "    }\n",
              "  }\n",
              "</style>\n",
              "\n",
              "      <script>\n",
              "        async function quickchart(key) {\n",
              "          const quickchartButtonEl =\n",
              "            document.querySelector('#' + key + ' button');\n",
              "          quickchartButtonEl.disabled = true;  // To prevent multiple clicks.\n",
              "          quickchartButtonEl.classList.add('colab-df-spinner');\n",
              "          try {\n",
              "            const charts = await google.colab.kernel.invokeFunction(\n",
              "                'suggestCharts', [key], {});\n",
              "          } catch (error) {\n",
              "            console.error('Error during call to suggestCharts:', error);\n",
              "          }\n",
              "          quickchartButtonEl.classList.remove('colab-df-spinner');\n",
              "          quickchartButtonEl.classList.add('colab-df-quickchart-complete');\n",
              "        }\n",
              "        (() => {\n",
              "          let quickchartButtonEl =\n",
              "            document.querySelector('#df-71700340-b112-4412-8ffc-743f200ce0e5 button');\n",
              "          quickchartButtonEl.style.display =\n",
              "            google.colab.kernel.accessAllowed ? 'block' : 'none';\n",
              "        })();\n",
              "      </script>\n",
              "    </div>\n",
              "\n",
              "    </div>\n",
              "  </div>\n"
            ],
            "application/vnd.google.colaboratory.intrinsic+json": {
              "type": "dataframe",
              "summary": "{\n  \"name\": \"display(data_professionals\",\n  \"rows\": 5,\n  \"fields\": [\n    {\n      \"column\": \"first_name\",\n      \"properties\": {\n        \"dtype\": \"string\",\n        \"num_unique_values\": 5,\n        \"samples\": [\n          \"ANNIE\",\n          \"LEON\",\n          \"OLIVE\"\n        ],\n        \"semantic_type\": \"\",\n        \"description\": \"\"\n      }\n    },\n    {\n      \"column\": \"last_name\",\n      \"properties\": {\n        \"dtype\": \"string\",\n        \"num_unique_values\": 4,\n        \"samples\": [\n          \"ANCY\",\n          \"ABOULAHOUD\",\n          \"ARMEN\"\n        ],\n        \"semantic_type\": \"\",\n        \"description\": \"\"\n      }\n    },\n    {\n      \"column\": \"sex\",\n      \"properties\": {\n        \"dtype\": \"category\",\n        \"num_unique_values\": 2,\n        \"samples\": [\n          \"M\",\n          \"F\"\n        ],\n        \"semantic_type\": \"\",\n        \"description\": \"\"\n      }\n    },\n    {\n      \"column\": \"doj\",\n      \"properties\": {\n        \"dtype\": \"object\",\n        \"num_unique_values\": 4,\n        \"samples\": [\n          \"7-28-2014\",\n          \"11-20-2014\"\n        ],\n        \"semantic_type\": \"\",\n        \"description\": \"\"\n      }\n    },\n    {\n      \"column\": \"current_date\",\n      \"properties\": {\n        \"dtype\": \"object\",\n        \"num_unique_values\": 1,\n        \"samples\": [\n          \"01-07-2016\"\n        ],\n        \"semantic_type\": \"\",\n        \"description\": \"\"\n      }\n    },\n    {\n      \"column\": \"designation\",\n      \"properties\": {\n        \"dtype\": \"category\",\n        \"num_unique_values\": 2,\n        \"samples\": [\n          \"Associate\"\n        ],\n        \"semantic_type\": \"\",\n        \"description\": \"\"\n      }\n    },\n    {\n      \"column\": \"age\",\n      \"properties\": {\n        \"dtype\": \"number\",\n        \"std\": 0.5773502691896258,\n        \"min\": 21.0,\n        \"max\": 22.0,\n        \"num_unique_values\": 2,\n        \"samples\": [\n          22.0\n        ],\n        \"semantic_type\": \"\",\n        \"description\": \"\"\n      }\n    },\n    {\n      \"column\": \"salary\",\n      \"properties\": {\n        \"dtype\": \"number\",\n        \"std\": 20487,\n        \"min\": 40955,\n        \"max\": 89207,\n        \"num_unique_values\": 5,\n        \"samples\": [\n          89207\n        ],\n        \"semantic_type\": \"\",\n        \"description\": \"\"\n      }\n    },\n    {\n      \"column\": \"unit\",\n      \"properties\": {\n        \"dtype\": \"string\",\n        \"num_unique_values\": 4,\n        \"samples\": [\n          \"Web\"\n        ],\n        \"semantic_type\": \"\",\n        \"description\": \"\"\n      }\n    },\n    {\n      \"column\": \"leaves_used\",\n      \"properties\": {\n        \"dtype\": \"number\",\n        \"std\": 2.160246899469287,\n        \"min\": 22.0,\n        \"max\": 27.0,\n        \"num_unique_values\": 4,\n        \"samples\": [\n          23.0\n        ],\n        \"semantic_type\": \"\",\n        \"description\": \"\"\n      }\n    },\n    {\n      \"column\": \"leaves_remaining\",\n      \"properties\": {\n        \"dtype\": \"number\",\n        \"std\": 3.646916505762094,\n        \"min\": 3.0,\n        \"max\": 13.0,\n        \"num_unique_values\": 5,\n        \"samples\": [\n          13.0\n        ],\n        \"semantic_type\": \"\",\n        \"description\": \"\"\n      }\n    },\n    {\n      \"column\": \"ratings\",\n      \"properties\": {\n        \"dtype\": \"number\",\n        \"std\": 0.5773502691896258,\n        \"min\": 2.0,\n        \"max\": 3.0,\n        \"num_unique_values\": 2,\n        \"samples\": [\n          3.0\n        ],\n        \"semantic_type\": \"\",\n        \"description\": \"\"\n      }\n    },\n    {\n      \"column\": \"past_exp\",\n      \"properties\": {\n        \"dtype\": \"number\",\n        \"std\": 3,\n        \"min\": 0,\n        \"max\": 7,\n        \"num_unique_values\": 3,\n        \"samples\": [\n          0\n        ],\n        \"semantic_type\": \"\",\n        \"description\": \"\"\n      }\n    }\n  ]\n}"
            }
          },
          "metadata": {}
        }
      ],
      "source": [
        "### Escreva sua resposta aqui\n",
        "import pandas as pd\n",
        "\n",
        "data_professionals = pd.read_csv('salaries.csv')\n",
        "\n",
        "data_professionals = data_professionals.rename(columns={\n",
        "    \"FIRST NAME\": \"first_name\",\n",
        "    \"LAST NAME\": \"last_name\",\n",
        "    \"SEX\": \"sex\",\n",
        "    \"DOJ\": \"doj\",\n",
        "    \"CURRENT DATE\": \"current_date\",\n",
        "    \"DESIGNATION\": \"designation\",\n",
        "    \"AGE\": \"age\",\n",
        "    \"SALARY\": \"salary\",\n",
        "    \"UNIT\": \"unit\",\n",
        "    \"LEAVES USED\": \"leaves_used\",\n",
        "    \"LEAVES REMAINING\": \"leaves_remaining\",\n",
        "    \"RATINGS\": \"ratings\",\n",
        "    \"PAST EXP\": \"past_exp\"\n",
        "})\n",
        "\n",
        "display(data_professionals.head(5))\n",
        "\n",
        "\n"
      ]
    },
    {
      "cell_type": "markdown",
      "metadata": {
        "id": "zd2VmhtZHM44"
      },
      "source": [
        "#### Q2. Modelando os dados\n",
        "Você deve **criar um ORM com SQLAlchemy capaz de comportar os dados dessa base**.\n",
        "\n",
        "* Crie um campo de chave primária `ID`, que deve ser incrementado automaticamente\n",
        "* Os campos SEX, DESIGNATION e UNIT devem ser definidos como classes `Enum` com os possíveis valores (consulte os valores únicos dessas colunas)\n",
        "* Para os outros campos, consulte os tipos de dados informados na descrição acima"
      ]
    },
    {
      "cell_type": "code",
      "execution_count": 105,
      "metadata": {
        "vscode": {
          "languageId": "plaintext"
        },
        "id": "1StH3VVtHM45"
      },
      "outputs": [],
      "source": [
        "from datetime import date\n",
        "from enum import Enum as PyEnum\n",
        "from sqlalchemy import Enum, Float, Integer, String, Date, create_engine, text\n",
        "from sqlalchemy.orm import DeclarativeBase, Mapped, mapped_column\n",
        "\n",
        "class Base(DeclarativeBase):\n",
        "    pass\n",
        "\n",
        "class SexEnum(PyEnum):\n",
        "    M = \"M\"\n",
        "    F = \"F\"\n",
        "\n",
        "class DesignationEnum(PyEnum):\n",
        "    ANALYST = \"Analyst\"\n",
        "    SENIOR_ANALYST = \"Senior Analyst\"\n",
        "    SENIOR_MANAGER = \"Senior Manager\"\n",
        "    MANAGER = \"Manager\"\n",
        "    ASSOCIATE = \"Associate\"\n",
        "\n",
        "class UnitEnum(PyEnum):\n",
        "    IT = \"IT\"\n",
        "    FINANCE = \"Finance\"\n",
        "    MARKETING = \"Marketing\"\n",
        "    WEB = \"Web\"\n",
        "    OPERATIONS = \"Operations\"\n",
        "    MANAGEMENT = \"Management\"\n",
        "\n",
        "class DataProfessional(Base):\n",
        "    __tablename__ = \"data_professionals\"\n",
        "\n",
        "    id: Mapped[int]                        = mapped_column(primary_key=True, autoincrement=True)\n",
        "    first_name: Mapped[str]                = mapped_column(\"first_name\", String, nullable=True)\n",
        "    last_name: Mapped[str]                 = mapped_column(\"last_name\", String, nullable=True)\n",
        "    sex: Mapped[SexEnum]                   = mapped_column(\"sex\", Enum(SexEnum), nullable=True)\n",
        "    doj: Mapped[date]                      = mapped_column(\"doj\", Date, nullable=True)\n",
        "    current_date: Mapped[date]             = mapped_column(\"current_date\", Date, nullable=True)\n",
        "    designation: Mapped[DesignationEnum] = mapped_column(\"designation\",Enum(DesignationEnum, native_enum=False),nullable=True)\n",
        "    #designation: Mapped[DesignationEnum]   = mapped_column(\"designation\", Enum(DesignationEnum), nullable=True)\n",
        "    age: Mapped[float]                     = mapped_column(\"age\", nullable=True)\n",
        "    salary: Mapped[float]                  = mapped_column(\"salary\", nullable=True)\n",
        "    unit: Mapped[UnitEnum]                 = mapped_column(\"unit\", Enum(UnitEnum), nullable=True)\n",
        "    leaves_used: Mapped[float]             = mapped_column(\"leaves_used\", nullable=True)\n",
        "    leaves_remaining: Mapped[float]        = mapped_column(\"leaves_remaining\", nullable=True)\n",
        "    ratings: Mapped[float]                 = mapped_column(\"ratings\", nullable=True)\n",
        "    past_exp: Mapped[float]                = mapped_column(\"past_exp\", nullable=True)\n"
      ]
    },
    {
      "cell_type": "markdown",
      "metadata": {
        "vscode": {
          "languageId": "plaintext"
        },
        "id": "z_Ud6AFaHM45"
      },
      "source": [
        "#### Q3. Estabelecendo uma conexão\n",
        "\n",
        "Usando o método `create_engine` do SQLAlchemy, crie uma conexão com um novo banco de dados SQLite chamado `salarios`."
      ]
    },
    {
      "cell_type": "code",
      "execution_count": 106,
      "metadata": {
        "vscode": {
          "languageId": "plaintext"
        },
        "id": "ItY6G8U4HM45"
      },
      "outputs": [],
      "source": [
        "engine = create_engine(\"sqlite:///salarios.db\", echo=True)"
      ]
    },
    {
      "cell_type": "markdown",
      "metadata": {
        "id": "Jfd0C7g3HM46"
      },
      "source": [
        "#### Q4. Criando as tabelas\n",
        "Crie as tabelas da questão Q2 no banco `salarios`."
      ]
    },
    {
      "cell_type": "code",
      "execution_count": 108,
      "metadata": {
        "vscode": {
          "languageId": "plaintext"
        },
        "colab": {
          "base_uri": "https://localhost:8080/"
        },
        "id": "eAMsakMhHM46",
        "outputId": "c9a98805-39bf-42e3-abc5-84c162f8f41d"
      },
      "outputs": [
        {
          "output_type": "stream",
          "name": "stdout",
          "text": [
            "2025-06-30 16:09:42,638 INFO sqlalchemy.engine.Engine BEGIN (implicit)\n"
          ]
        },
        {
          "output_type": "stream",
          "name": "stderr",
          "text": [
            "INFO:sqlalchemy.engine.Engine:BEGIN (implicit)\n"
          ]
        },
        {
          "output_type": "stream",
          "name": "stdout",
          "text": [
            "2025-06-30 16:09:42,642 INFO sqlalchemy.engine.Engine PRAGMA main.table_info(\"data_professionals\")\n"
          ]
        },
        {
          "output_type": "stream",
          "name": "stderr",
          "text": [
            "INFO:sqlalchemy.engine.Engine:PRAGMA main.table_info(\"data_professionals\")\n"
          ]
        },
        {
          "output_type": "stream",
          "name": "stdout",
          "text": [
            "2025-06-30 16:09:42,644 INFO sqlalchemy.engine.Engine [raw sql] ()\n"
          ]
        },
        {
          "output_type": "stream",
          "name": "stderr",
          "text": [
            "INFO:sqlalchemy.engine.Engine:[raw sql] ()\n"
          ]
        },
        {
          "output_type": "stream",
          "name": "stdout",
          "text": [
            "2025-06-30 16:09:42,646 INFO sqlalchemy.engine.Engine COMMIT\n"
          ]
        },
        {
          "output_type": "stream",
          "name": "stderr",
          "text": [
            "INFO:sqlalchemy.engine.Engine:COMMIT\n"
          ]
        }
      ],
      "source": [
        "Base.metadata.create_all(engine)"
      ]
    },
    {
      "cell_type": "markdown",
      "metadata": {
        "id": "8YZcv4AOHM47"
      },
      "source": [
        "#### Q5. Populando\n",
        "\n",
        "Usando o método `to_sql` da biblioteca Pandas (veja [a documentação](https://pandas.pydata.org/docs/reference/api/pandas.DataFrame.to_sql.html)), popule o banco `salarios` com os dados do csv que você carregou na questão Q1.\n",
        "* Lembre-se de definir o parâmetro `if_exists='append'` para que as tabelas não sejam dropadas e recriadas."
      ]
    },
    {
      "cell_type": "code",
      "execution_count": 109,
      "metadata": {
        "vscode": {
          "languageId": "plaintext"
        },
        "colab": {
          "base_uri": "https://localhost:8080/"
        },
        "id": "9l2cCsa9HM47",
        "outputId": "4dd2a846-85fe-4229-b36a-8348e6f3c9fc"
      },
      "outputs": [
        {
          "output_type": "stream",
          "name": "stdout",
          "text": [
            "2025-06-30 16:09:44,367 INFO sqlalchemy.engine.Engine BEGIN (implicit)\n"
          ]
        },
        {
          "output_type": "stream",
          "name": "stderr",
          "text": [
            "INFO:sqlalchemy.engine.Engine:BEGIN (implicit)\n"
          ]
        },
        {
          "output_type": "stream",
          "name": "stdout",
          "text": [
            "2025-06-30 16:09:44,373 INFO sqlalchemy.engine.Engine PRAGMA main.table_info(\"data_professionals\")\n"
          ]
        },
        {
          "output_type": "stream",
          "name": "stderr",
          "text": [
            "INFO:sqlalchemy.engine.Engine:PRAGMA main.table_info(\"data_professionals\")\n"
          ]
        },
        {
          "output_type": "stream",
          "name": "stdout",
          "text": [
            "2025-06-30 16:09:44,375 INFO sqlalchemy.engine.Engine [raw sql] ()\n"
          ]
        },
        {
          "output_type": "stream",
          "name": "stderr",
          "text": [
            "INFO:sqlalchemy.engine.Engine:[raw sql] ()\n"
          ]
        },
        {
          "output_type": "stream",
          "name": "stdout",
          "text": [
            "2025-06-30 16:09:44,403 INFO sqlalchemy.engine.Engine INSERT INTO data_professionals (first_name, last_name, sex, doj, \"current_date\", designation, age, salary, unit, leaves_used, leaves_remaining, ratings, past_exp) VALUES (?, ?, ?, ?, ?, ?, ?, ?, ?, ?, ?, ?, ?)\n"
          ]
        },
        {
          "output_type": "stream",
          "name": "stderr",
          "text": [
            "INFO:sqlalchemy.engine.Engine:INSERT INTO data_professionals (first_name, last_name, sex, doj, \"current_date\", designation, age, salary, unit, leaves_used, leaves_remaining, ratings, past_exp) VALUES (?, ?, ?, ?, ?, ?, ?, ?, ?, ?, ?, ?, ?)\n"
          ]
        },
        {
          "output_type": "stream",
          "name": "stdout",
          "text": [
            "2025-06-30 16:09:44,406 INFO sqlalchemy.engine.Engine [generated in 0.02064s] [('TOMASA', 'ARMEN', 'F', '5-18-2014', '01-07-2016', 'Analyst', 21.0, 44570, 'Finance', 24.0, 6.0, 2.0, 0), ('ANNIE', None, 'F', None, '01-07-2016', 'Associate', None, 89207, 'Web', None, 13.0, None, 7), ('OLIVE', 'ANCY', 'F', '7-28-2014', '01-07-2016', 'Analyst', 21.0, 40955, 'Finance', 23.0, 7.0, 3.0, 0), ('CHERRY', 'AQUILAR', 'F', '04-03-2013', '01-07-2016', 'Analyst', 22.0, 45550, 'IT', 22.0, 8.0, 3.0, 0), ('LEON', 'ABOULAHOUD', 'M', '11-20-2014', '01-07-2016', 'Analyst', None, 43161, 'Operations', 27.0, 3.0, None, 3), ('VICTORIA', None, 'F', '2-19-2013', '01-07-2016', 'Analyst', 22.0, 48736, 'Marketing', 20.0, 10.0, 4.0, 0), ('ELLIOT', 'AGULAR', 'M', '09-02-2013', '01-07-2016', 'Analyst', 22.0, 40339, 'Marketing', 19.0, 11.0, 5.0, 0), ('JACQUES', 'AKMAL', 'M', '12-05-2013', '01-07-2016', 'Analyst', None, 40058, 'Marketing', 29.0, 1.0, 2.0, 2)  ... displaying 10 of 2639 total bound parameter sets ...  ('TERI', 'ANASTASIO', 'F', '3-17-2014', '01-07-2016', 'Analyst', 24.0, 45172, 'Web', 23.0, 7.0, 3.0, 1), ('GREGORY', 'ABARCA', 'M', '9-18-2014', '01-07-2016', 'Analyst', 24.0, 49176, 'Marketing', 17.0, 13.0, 2.0, 2)]\n"
          ]
        },
        {
          "output_type": "stream",
          "name": "stderr",
          "text": [
            "INFO:sqlalchemy.engine.Engine:[generated in 0.02064s] [('TOMASA', 'ARMEN', 'F', '5-18-2014', '01-07-2016', 'Analyst', 21.0, 44570, 'Finance', 24.0, 6.0, 2.0, 0), ('ANNIE', None, 'F', None, '01-07-2016', 'Associate', None, 89207, 'Web', None, 13.0, None, 7), ('OLIVE', 'ANCY', 'F', '7-28-2014', '01-07-2016', 'Analyst', 21.0, 40955, 'Finance', 23.0, 7.0, 3.0, 0), ('CHERRY', 'AQUILAR', 'F', '04-03-2013', '01-07-2016', 'Analyst', 22.0, 45550, 'IT', 22.0, 8.0, 3.0, 0), ('LEON', 'ABOULAHOUD', 'M', '11-20-2014', '01-07-2016', 'Analyst', None, 43161, 'Operations', 27.0, 3.0, None, 3), ('VICTORIA', None, 'F', '2-19-2013', '01-07-2016', 'Analyst', 22.0, 48736, 'Marketing', 20.0, 10.0, 4.0, 0), ('ELLIOT', 'AGULAR', 'M', '09-02-2013', '01-07-2016', 'Analyst', 22.0, 40339, 'Marketing', 19.0, 11.0, 5.0, 0), ('JACQUES', 'AKMAL', 'M', '12-05-2013', '01-07-2016', 'Analyst', None, 40058, 'Marketing', 29.0, 1.0, 2.0, 2)  ... displaying 10 of 2639 total bound parameter sets ...  ('TERI', 'ANASTASIO', 'F', '3-17-2014', '01-07-2016', 'Analyst', 24.0, 45172, 'Web', 23.0, 7.0, 3.0, 1), ('GREGORY', 'ABARCA', 'M', '9-18-2014', '01-07-2016', 'Analyst', 24.0, 49176, 'Marketing', 17.0, 13.0, 2.0, 2)]\n"
          ]
        },
        {
          "output_type": "stream",
          "name": "stdout",
          "text": [
            "2025-06-30 16:09:44,419 INFO sqlalchemy.engine.Engine COMMIT\n"
          ]
        },
        {
          "output_type": "stream",
          "name": "stderr",
          "text": [
            "INFO:sqlalchemy.engine.Engine:COMMIT\n"
          ]
        },
        {
          "output_type": "execute_result",
          "data": {
            "text/plain": [
              "2639"
            ]
          },
          "metadata": {},
          "execution_count": 109
        }
      ],
      "source": [
        "data_professionals.to_sql(\"data_professionals\", con=engine, if_exists=\"append\", index=False)"
      ]
    },
    {
      "cell_type": "markdown",
      "metadata": {
        "id": "bFOtzkPYHM47"
      },
      "source": [
        "#### Q6. Consultas SQL vs ORM\n",
        "\n",
        "Agrupe os dados por DESIGNATION e selecione o mínimo, máximo e a média dos salários (SALARY) divididos por 12. Já que o atributo SALARY é anual, dividir por 12 nos mostrará os valores mensais.\n",
        "\n",
        "Assumindo que a variável que armazena a sua conexão se chama `engine`, você deve realizar a query acima de três formas:\n",
        "* Executando a query SQL através de uma instância de conexão retornada pelo método `engine.connect()`\n",
        "* Executando a query SQL com o método `read_sql_query` do Pandas (veja [a documentação](https://pandas.pydata.org/docs/reference/api/pandas.read_sql_query.html)). Você usará mesma instância `engine.connect()` como um dos parâmetros.\n",
        "* Executando uma query criada com o módulo `select` do SQLAlchemy. Sua execução deve ser feita através de um objeto `Session` do módulo `orm` do SQLAlchemy (`Session(engine)`).\n"
      ]
    },
    {
      "cell_type": "code",
      "execution_count": 110,
      "metadata": {
        "vscode": {
          "languageId": "plaintext"
        },
        "colab": {
          "base_uri": "https://localhost:8080/"
        },
        "id": "VDSIofqzHM48",
        "outputId": "6f145c7b-209f-41dc-ce1b-3e9f5a5d88b4"
      },
      "outputs": [
        {
          "output_type": "stream",
          "name": "stdout",
          "text": [
            "2025-06-30 16:09:46,492 INFO sqlalchemy.engine.Engine BEGIN (implicit)\n"
          ]
        },
        {
          "output_type": "stream",
          "name": "stderr",
          "text": [
            "INFO:sqlalchemy.engine.Engine:BEGIN (implicit)\n"
          ]
        },
        {
          "output_type": "stream",
          "name": "stdout",
          "text": [
            "2025-06-30 16:09:46,494 INFO sqlalchemy.engine.Engine \n",
            "SELECT \n",
            "    designation,\n",
            "    ROUND(MIN(salary) / 12, 2) AS min_monthly_salary,\n",
            "    ROUND(MAX(salary) / 12, 2) AS max_monthly_salary,\n",
            "    ROUND(AVG(salary) / 12, 2) AS avg_monthly_salary\n",
            "   \n",
            "FROM data_professionals\n",
            "GROUP BY designation\n",
            "\n"
          ]
        },
        {
          "output_type": "stream",
          "name": "stderr",
          "text": [
            "INFO:sqlalchemy.engine.Engine:\n",
            "SELECT \n",
            "    designation,\n",
            "    ROUND(MIN(salary) / 12, 2) AS min_monthly_salary,\n",
            "    ROUND(MAX(salary) / 12, 2) AS max_monthly_salary,\n",
            "    ROUND(AVG(salary) / 12, 2) AS avg_monthly_salary\n",
            "   \n",
            "FROM data_professionals\n",
            "GROUP BY designation\n",
            "\n"
          ]
        },
        {
          "output_type": "stream",
          "name": "stdout",
          "text": [
            "2025-06-30 16:09:46,496 INFO sqlalchemy.engine.Engine [generated in 0.00357s] ()\n"
          ]
        },
        {
          "output_type": "stream",
          "name": "stderr",
          "text": [
            "INFO:sqlalchemy.engine.Engine:[generated in 0.00357s] ()\n"
          ]
        },
        {
          "output_type": "stream",
          "name": "stdout",
          "text": [
            "('Analyst', 3333.42, 4165.0, 3751.68)\n",
            "('Associate', 5846.17, 8300.25, 7266.92)\n",
            "('Director', 17832.25, 32342.67, 23914.27)\n",
            "('Manager', 8343.67, 12407.5, 10522.72)\n",
            "('Senior Analyst', 4170.33, 5830.5, 4991.78)\n",
            "('Senior Manager', 12614.42, 16631.42, 14888.69)\n",
            "2025-06-30 16:09:46,501 INFO sqlalchemy.engine.Engine ROLLBACK\n"
          ]
        },
        {
          "output_type": "stream",
          "name": "stderr",
          "text": [
            "INFO:sqlalchemy.engine.Engine:ROLLBACK\n"
          ]
        }
      ],
      "source": [
        "### Execute aqui sua query SQL com SQLAlchemy\n",
        "\n",
        "query = \"\"\"\n",
        "SELECT\n",
        "    designation,\n",
        "    ROUND(MIN(salary) / 12, 2) AS min_monthly_salary,\n",
        "    ROUND(MAX(salary) / 12, 2) AS max_monthly_salary,\n",
        "    ROUND(AVG(salary) / 12, 2) AS avg_monthly_salary\n",
        "\n",
        "FROM data_professionals\n",
        "GROUP BY designation\n",
        "\"\"\"\n",
        "\n",
        "with engine.connect() as conn:\n",
        "    result = conn.execute(text(query))\n",
        "    for row in result:\n",
        "        print(row)"
      ]
    },
    {
      "cell_type": "code",
      "execution_count": 111,
      "metadata": {
        "vscode": {
          "languageId": "plaintext"
        },
        "colab": {
          "base_uri": "https://localhost:8080/"
        },
        "id": "v_Xb_lzlHM48",
        "outputId": "c62d8efd-2037-4caf-b282-f8e1cb684d4f"
      },
      "outputs": [
        {
          "output_type": "stream",
          "name": "stdout",
          "text": [
            "2025-06-30 16:09:49,022 INFO sqlalchemy.engine.Engine BEGIN (implicit)\n"
          ]
        },
        {
          "output_type": "stream",
          "name": "stderr",
          "text": [
            "INFO:sqlalchemy.engine.Engine:BEGIN (implicit)\n"
          ]
        },
        {
          "output_type": "stream",
          "name": "stdout",
          "text": [
            "2025-06-30 16:09:49,026 INFO sqlalchemy.engine.Engine \n",
            "SELECT \n",
            "    designation,\n",
            "    ROUND(MIN(salary) / 12, 2) AS min_monthly_salary,\n",
            "    ROUND(MAX(salary) / 12, 2) AS max_monthly_salary,\n",
            "    ROUND(AVG(salary) / 12, 2) AS avg_monthly_salary\n",
            "   \n",
            "FROM data_professionals\n",
            "GROUP BY designation\n",
            "\n"
          ]
        },
        {
          "output_type": "stream",
          "name": "stderr",
          "text": [
            "INFO:sqlalchemy.engine.Engine:\n",
            "SELECT \n",
            "    designation,\n",
            "    ROUND(MIN(salary) / 12, 2) AS min_monthly_salary,\n",
            "    ROUND(MAX(salary) / 12, 2) AS max_monthly_salary,\n",
            "    ROUND(AVG(salary) / 12, 2) AS avg_monthly_salary\n",
            "   \n",
            "FROM data_professionals\n",
            "GROUP BY designation\n",
            "\n"
          ]
        },
        {
          "output_type": "stream",
          "name": "stdout",
          "text": [
            "2025-06-30 16:09:49,028 INFO sqlalchemy.engine.Engine [raw sql] ()\n"
          ]
        },
        {
          "output_type": "stream",
          "name": "stderr",
          "text": [
            "INFO:sqlalchemy.engine.Engine:[raw sql] ()\n"
          ]
        },
        {
          "output_type": "stream",
          "name": "stdout",
          "text": [
            "2025-06-30 16:09:49,033 INFO sqlalchemy.engine.Engine ROLLBACK\n"
          ]
        },
        {
          "output_type": "stream",
          "name": "stderr",
          "text": [
            "INFO:sqlalchemy.engine.Engine:ROLLBACK\n"
          ]
        },
        {
          "output_type": "stream",
          "name": "stdout",
          "text": [
            "      designation  min_monthly_salary  max_monthly_salary  avg_monthly_salary\n",
            "0         Analyst             3333.42             4165.00             3751.68\n",
            "1       Associate             5846.17             8300.25             7266.92\n",
            "2        Director            17832.25            32342.67            23914.27\n",
            "3         Manager             8343.67            12407.50            10522.72\n",
            "4  Senior Analyst             4170.33             5830.50             4991.78\n",
            "5  Senior Manager            12614.42            16631.42            14888.69\n"
          ]
        }
      ],
      "source": [
        "### Execute aqui sua query SQL com SQLAlchemy + Pandas\n",
        "\n",
        "with engine.connect() as conn:\n",
        "    df = pd.read_sql_query(query, conn)\n",
        "\n",
        "df[[\"min_monthly_salary\", \"max_monthly_salary\", \"avg_monthly_salary\"]] = df[\n",
        "    [\"min_monthly_salary\", \"max_monthly_salary\", \"avg_monthly_salary\"]\n",
        "].round(2)\n",
        "print(df)\n",
        "\n",
        "\n",
        "engine.dispose()"
      ]
    },
    {
      "cell_type": "code",
      "execution_count": 117,
      "metadata": {
        "vscode": {
          "languageId": "plaintext"
        },
        "colab": {
          "base_uri": "https://localhost:8080/"
        },
        "id": "BpjNw7XeHM48",
        "outputId": "261c7188-bde0-43d4-fb0e-d64ba442498c"
      },
      "outputs": [
        {
          "output_type": "stream",
          "name": "stdout",
          "text": [
            "2025-06-30 16:23:28,305 INFO sqlalchemy.engine.Engine BEGIN (implicit)\n"
          ]
        },
        {
          "output_type": "stream",
          "name": "stderr",
          "text": [
            "INFO:sqlalchemy.engine.Engine:BEGIN (implicit)\n"
          ]
        },
        {
          "output_type": "stream",
          "name": "stdout",
          "text": [
            "2025-06-30 16:23:28,308 INFO sqlalchemy.engine.Engine SELECT CAST(data_professionals.designation AS VARCHAR) AS designation, round(min(data_professionals.salary) / (? + 0.0), ?) AS min_monthly_salary, round(max(data_professionals.salary) / (? + 0.0), ?) AS max_monthly_salary, round(avg(data_professionals.salary) / (? + 0.0), ?) AS avg_monthly_salary \n",
            "FROM data_professionals GROUP BY data_professionals.designation ORDER BY data_professionals.designation\n"
          ]
        },
        {
          "output_type": "stream",
          "name": "stderr",
          "text": [
            "INFO:sqlalchemy.engine.Engine:SELECT CAST(data_professionals.designation AS VARCHAR) AS designation, round(min(data_professionals.salary) / (? + 0.0), ?) AS min_monthly_salary, round(max(data_professionals.salary) / (? + 0.0), ?) AS max_monthly_salary, round(avg(data_professionals.salary) / (? + 0.0), ?) AS avg_monthly_salary \n",
            "FROM data_professionals GROUP BY data_professionals.designation ORDER BY data_professionals.designation\n"
          ]
        },
        {
          "output_type": "stream",
          "name": "stdout",
          "text": [
            "2025-06-30 16:23:28,310 INFO sqlalchemy.engine.Engine [cached since 212.2s ago] (12, 2, 12, 2, 12, 2)\n"
          ]
        },
        {
          "output_type": "stream",
          "name": "stderr",
          "text": [
            "INFO:sqlalchemy.engine.Engine:[cached since 212.2s ago] (12, 2, 12, 2, 12, 2)\n"
          ]
        },
        {
          "output_type": "stream",
          "name": "stdout",
          "text": [
            "2025-06-30 16:23:28,316 INFO sqlalchemy.engine.Engine ROLLBACK\n"
          ]
        },
        {
          "output_type": "stream",
          "name": "stderr",
          "text": [
            "INFO:sqlalchemy.engine.Engine:ROLLBACK\n"
          ]
        },
        {
          "output_type": "stream",
          "name": "stdout",
          "text": [
            "DESIGNATION                 MIN        MAX        AVG\n",
            "----------------------------------------------------\n",
            "Analyst                 3333.42    4165.00    3751.68\n",
            "Associate               5846.17    8300.25    7266.92\n",
            "Director               17832.25   32342.67   23914.27\n",
            "Manager                 8343.67   12407.50   10522.72\n",
            "Senior Analyst          4170.33    5830.50    4991.78\n",
            "Senior Manager         12614.42   16631.42   14888.69\n"
          ]
        }
      ],
      "source": [
        "### Execute aqui sua query com SQLAlchemy ORM\n",
        "from sqlalchemy import func, select, String\n",
        "from sqlalchemy.orm import Session\n",
        "\n",
        "\n",
        "\n",
        "\n",
        "#  esse trecho '.cast(String)' foi adicionado por que havia um conflito no mapeamento especificamente nessa consulta, então foi feito transformado a coluna \"designation em uma strig dentro da consulta\"\n",
        "stmt = (\n",
        "    select(\n",
        "        DataProfessional.designation.cast(String),\n",
        "        func.round(func.min(DataProfessional.salary) / 12, 2).label(\"min_monthly_salary\"),\n",
        "        func.round(func.max(DataProfessional.salary) / 12, 2).label(\"max_monthly_salary\"),\n",
        "        func.round(func.avg(DataProfessional.salary) / 12, 2).label(\"avg_monthly_salary\"),\n",
        "    )\n",
        "    .group_by(DataProfessional.designation)\n",
        "    .order_by(DataProfessional.designation)\n",
        ")\n",
        "\n",
        "\n",
        "with Session(engine) as session:\n",
        "    res = session.execute(stmt).all()\n",
        "\n",
        "print(f\"{'DESIGNATION':<20} {'MIN':>10} {'MAX':>10} {'AVG':>10}\")\n",
        "print(\"-\" * 52)\n",
        "for designation, min_sal, max_sal, avg_sal in res:\n",
        "    print(f\"{designation:<20} {min_sal:>10.2f} {max_sal:>10.2f} {avg_sal:>10.2f}\")"
      ]
    }
  ],
  "metadata": {
    "language_info": {
      "name": "python"
    },
    "colab": {
      "provenance": [],
      "include_colab_link": true
    },
    "kernelspec": {
      "name": "python3",
      "display_name": "Python 3"
    }
  },
  "nbformat": 4,
  "nbformat_minor": 0
}