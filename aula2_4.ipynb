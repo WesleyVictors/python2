{
  "nbformat": 4,
  "nbformat_minor": 0,
  "metadata": {
    "colab": {
      "provenance": [],
      "authorship_tag": "ABX9TyOggMZzSFj+gJMEf/4JSKSW",
      "include_colab_link": true
    },
    "kernelspec": {
      "name": "python3",
      "display_name": "Python 3"
    },
    "language_info": {
      "name": "python"
    }
  },
  "cells": [
    {
      "cell_type": "markdown",
      "metadata": {
        "id": "view-in-github",
        "colab_type": "text"
      },
      "source": [
        "<a href=\"https://colab.research.google.com/github/WesleyVictors/python2/blob/main/aula2_4.ipynb\" target=\"_parent\"><img src=\"https://colab.research.google.com/assets/colab-badge.svg\" alt=\"Open In Colab\"/></a>"
      ]
    },
    {
      "cell_type": "markdown",
      "source": [
        "Vamos criar aos pouquinhos uma classe Evento que registra eventos de um\n",
        "calendário. Pra começar, nessa questão você deve:\n",
        "○ Criar uma classe chamada Evento\n",
        "○ Adicionar um atributo de classe total_eventos que será usado para\n",
        "contar o número total de eventos (instâncias de classe) criadas.\n",
        "○ Implemente o método construtor que deve receber os parâmetros\n",
        "titulo (string), data_hora (datetime), descrição (string). Crie e\n",
        "inicialize um atributo de instância para cada um dos parâmetros\n",
        "citados.\n",
        "○ O construtor também deve inicializar um atributo de instância\n",
        "is_concluido = False. Esse atributo será utilizado mais à frente.\n",
        "○ No construtor você também deve incrementar o atributo de classe\n",
        "total_eventos em 1 a cada nova instância criada.\n",
        "Teste o seu código criando duas diferentes instâncias de evento (preencha os\n",
        "atributos como quiser) e imprimindo todos os seus atributos (de classe e de\n",
        "instância).\n",
        "Consulte este tutorial biblioteca datetime caso não esteja familiarizado."
      ],
      "metadata": {
        "id": "ohBgH4VulqgW"
      }
    },
    {
      "cell_type": "code",
      "execution_count": 2,
      "metadata": {
        "colab": {
          "base_uri": "https://localhost:8080/"
        },
        "id": "iIhC98HQlm9e",
        "outputId": "8eec94ab-698d-4e98-b8c7-fad587ae58f2"
      },
      "outputs": [
        {
          "output_type": "stream",
          "name": "stdout",
          "text": [
            "Evento 1:\n",
            "Título: Reunião de equipe\n",
            "Data e hora: 2024-05-10 10:00:00\n",
            "Descrição: Discussão sobre o projeto X\n",
            "Concluído: False\n",
            "\n",
            "Evento 2:\n",
            "Título: Apresentação do projeto\n",
            "Data e hora: 2024-05-15 14:30:00\n",
            "Descrição: Apresentação do projeto Y para os clientes\n",
            "Concluído: False\n",
            "\n",
            "Total de eventos: 2\n"
          ]
        }
      ],
      "source": [
        "from datetime import datetime\n",
        "\n",
        "class Evento:\n",
        "  total_eventos = 0\n",
        "\n",
        "  def __init__(self, titulo, data_hora, descricao):\n",
        "    self.titulo = titulo\n",
        "    self.data_hora = data_hora\n",
        "    self.descricao = descricao\n",
        "    self.is_concluido = False\n",
        "    Evento.total_eventos += 1\n",
        "\n",
        "# Criando duas instâncias de evento\n",
        "evento1 = Evento(\"Reunião de equipe\", datetime(2024, 5, 10, 10, 0, 0), \"Discussão sobre o projeto X\")\n",
        "evento2 = Evento(\"Apresentação do projeto\", datetime(2024, 5, 15, 14, 30, 0), \"Apresentação do projeto Y para os clientes\")\n",
        "\n",
        "# Imprimindo os atributos das instâncias\n",
        "print(\"Evento 1:\")\n",
        "print(\"Título:\", evento1.titulo)\n",
        "print(\"Data e hora:\", evento1.data_hora)\n",
        "print(\"Descrição:\", evento1.descricao)\n",
        "print(\"Concluído:\", evento1.is_concluido)\n",
        "\n",
        "print(\"\\nEvento 2:\")\n",
        "print(\"Título:\", evento2.titulo)\n",
        "print(\"Data e hora:\", evento2.data_hora)\n",
        "print(\"Descrição:\", evento2.descricao)\n",
        "print(\"Concluído:\", evento2.is_concluido)\n",
        "\n",
        "# Imprimindo o atributo de classe\n",
        "print(\"\\nTotal de eventos:\", Evento.total_eventos)\n"
      ]
    },
    {
      "cell_type": "markdown",
      "source": [],
      "metadata": {
        "id": "IQPRPmHir3Pj"
      }
    },
    {
      "cell_type": "code",
      "source": [
        "from datetime import datetime\n",
        "\n",
        "class Evento:\n",
        "  total_eventos = 0\n",
        "\n",
        "  def __init__(self, titulo, data_hora, descricao):\n",
        "    self.titulo = titulo\n",
        "    self.data_hora = data_hora\n",
        "    self.descricao = descricao\n",
        "    self.is_concluido = False\n",
        "    Evento.total_eventos += 1\n",
        "\n",
        "  def isConcluido(self):\n",
        "    if self.data_hora < datetime.now():\n",
        "      self.is_concluido = True\n",
        "\n",
        "  @classmethod\n",
        "  def num_eventos(cls):\n",
        "    return cls.total_eventos\n",
        "\n",
        "  @staticmethod\n",
        "  def valida_evento(nome, data_hora, descricao):\n",
        "    return (isinstance(nome, str) and\n",
        "            isinstance(data_hora, datetime) and\n",
        "            isinstance(descricao, str))\n",
        "\n",
        "# Criando uma instância de evento\n",
        "evento1 = Evento(\"Reunião de equipe\", datetime(2023, 5, 10, 10, 0, 0), \"Discussão sobre o projeto X\")\n",
        "\n",
        "# Chamando o método isConcluido()\n",
        "evento1.isConcluido()\n",
        "print(\"Evento 1 - Concluído:\", evento1.is_concluido)\n",
        "\n",
        "# Chamando o método de classe num_eventos()\n",
        "print(\"Número de eventos:\", Evento.num_eventos())\n",
        "\n",
        "# Chamando o método estático valida_evento() com valores corretos\n",
        "print(\"Valida evento (correto):\", Evento.valida_evento(\"Nome do evento\", datetime.now(), \"Descrição do evento\"))\n",
        "\n",
        "# Chamando o método estático valida_evento() com valores incorretos\n",
        "print(\"Valida evento (incorreto):\", Evento.valida_evento(123, \"data errada\", 456))"
      ],
      "metadata": {
        "colab": {
          "base_uri": "https://localhost:8080/"
        },
        "id": "i9lVbTFHr3j7",
        "outputId": "bfc6749a-85ee-4aa7-9f25-4eb47d240cb6"
      },
      "execution_count": 3,
      "outputs": [
        {
          "output_type": "stream",
          "name": "stdout",
          "text": [
            "Evento 1 - Concluído: True\n",
            "Número de eventos: 1\n",
            "Valida evento (correto): True\n",
            "Valida evento (incorreto): False\n"
          ]
        }
      ]
    },
    {
      "cell_type": "code",
      "source": [
        "# prompt: Vamos incluir métodos mágicos! ✨🪄🔮\n",
        "# Redefina a classe incluindo:\n",
        "# ○ Método __str__ que imprime os atributos do evento na forma\n",
        "# \"Evento: titulo, Data: data_hora, Descrição: descricao,\n",
        "# Concluido: is_concluido\".\n",
        "# ○ Implemente os métodos de comparação __eq__, __ne__, __lt__,\n",
        "# __le__, __gt__ e __ge__ para comparar eventos baseados no atributo\n",
        "# data_hora. Esses métodos devem comparar duas instâncias de\n",
        "# Evento e retornar os resultados apropriados (True ou False).\n",
        "# Para testar, crie duas instâncias de Evento com datas diferentes. Imprima as\n",
        "# instâncias com a função print() e apresente\n",
        "\n",
        "from datetime import datetime\n",
        "\n",
        "class Evento:\n",
        "    total_eventos = 0\n",
        "\n",
        "    def __init__(self, titulo, data_hora, descricao):\n",
        "        self.titulo = titulo\n",
        "        self.data_hora = data_hora\n",
        "        self.descricao = descricao\n",
        "        self.is_concluido = False\n",
        "        Evento.total_eventos += 1\n",
        "\n",
        "    def __str__(self):\n",
        "        return f\"Evento: {self.titulo}, Data: {self.data_hora}, Descrição: {self.descricao}, Concluido: {self.is_concluido}\"\n",
        "\n",
        "    def __eq__(self, other):\n",
        "        return self.data_hora == other.data_hora\n",
        "\n",
        "    def __ne__(self, other):\n",
        "        return self.data_hora != other.data_hora\n",
        "\n",
        "    def __lt__(self, other):\n",
        "        return self.data_hora < other.data_hora\n",
        "\n",
        "    def __le__(self, other):\n",
        "        return self.data_hora <= other.data_hora\n",
        "\n",
        "    def __gt__(self, other):\n",
        "        return self.data_hora > other.data_hora\n",
        "\n",
        "    def __ge__(self, other):\n",
        "        return self.data_hora >= other.data_hora\n",
        "\n",
        "    def isConcluido(self):\n",
        "        if self.data_hora < datetime.now():\n",
        "            self.is_concluido = True\n",
        "\n",
        "    @classmethod\n",
        "    def num_eventos(cls):\n",
        "        return cls.total_eventos\n",
        "\n",
        "    @staticmethod\n",
        "    def valida_evento(nome, data_hora, descricao):\n",
        "        return (isinstance(nome, str) and\n",
        "                isinstance(data_hora, datetime) and\n",
        "                isinstance(descricao, str))\n",
        "\n",
        "\n",
        "# Criando duas instâncias de evento com datas diferentes\n",
        "evento1 = Evento(\"Reunião de equipe\", datetime(2024, 5, 10, 10, 0, 0), \"Discussão sobre o projeto X\")\n",
        "evento2 = Evento(\"Apresentação do projeto\", datetime(2024, 5, 15, 14, 30, 0), \"Apresentação do projeto Y para os clientes\")\n",
        "\n",
        "# Imprimindo as instâncias usando a função print()\n",
        "print(evento1)\n",
        "print(evento2)\n",
        "\n",
        "# Testando os métodos de comparação\n",
        "print(f\"\\nEventos iguais? {evento1 == evento2}\")\n",
        "print(f\"Eventos diferentes? {evento1 != evento2}\")\n",
        "print(f\"Evento 1 anterior ao Evento 2? {evento1 < evento2}\")\n",
        "print(f\"Evento 1 anterior ou igual ao Evento 2? {evento1 <= evento2}\")\n",
        "print(f\"Evento 1 posterior ao Evento 2? {evento1 > evento2}\")\n",
        "print(f\"Evento 1 posterior ou igual ao Evento 2? {evento1 >= evento2}\")"
      ],
      "metadata": {
        "colab": {
          "base_uri": "https://localhost:8080/"
        },
        "id": "GIYpB7Duxxkv",
        "outputId": "80a471cc-fecd-40b2-d272-d9a11a633e6e"
      },
      "execution_count": 5,
      "outputs": [
        {
          "output_type": "stream",
          "name": "stdout",
          "text": [
            "Evento: Reunião de equipe, Data: 2024-05-10 10:00:00, Descrição: Discussão sobre o projeto X, Concluido: False\n",
            "Evento: Apresentação do projeto, Data: 2024-05-15 14:30:00, Descrição: Apresentação do projeto Y para os clientes, Concluido: False\n",
            "\n",
            "Eventos iguais? False\n",
            "Eventos diferentes? True\n",
            "Evento 1 anterior ao Evento 2? True\n",
            "Evento 1 anterior ou igual ao Evento 2? True\n",
            "Evento 1 posterior ao Evento 2? False\n",
            "Evento 1 posterior ou igual ao Evento 2? False\n"
          ]
        }
      ]
    },
    {
      "cell_type": "code",
      "source": [],
      "metadata": {
        "id": "tb0Z0kpQ0YhB"
      },
      "execution_count": null,
      "outputs": []
    }
  ]
}