{
  "nbformat": 4,
  "nbformat_minor": 0,
  "metadata": {
    "colab": {
      "provenance": [],
      "authorship_tag": "ABX9TyPGgmX+WMpkFY8d6IAmJhHQ",
      "include_colab_link": true
    },
    "kernelspec": {
      "name": "python3",
      "display_name": "Python 3"
    },
    "language_info": {
      "name": "python"
    }
  },
  "cells": [
    {
      "cell_type": "markdown",
      "metadata": {
        "id": "view-in-github",
        "colab_type": "text"
      },
      "source": [
        "<a href=\"https://colab.research.google.com/github/WesleyVictors/python2/blob/main/aula1.ipynb\" target=\"_parent\"><img src=\"https://colab.research.google.com/assets/colab-badge.svg\" alt=\"Open In Colab\"/></a>"
      ]
    },
    {
      "cell_type": "markdown",
      "source": [
        "1.Faça um procedimento recursivo que receba dois valores inteiros a e b e imprime o intervalo fechado entre eles. Se a > b imprima uma mensagem de erro."
      ],
      "metadata": {
        "id": "mkmhpHD4hYEp"
      }
    },
    {
      "cell_type": "code",
      "source": [
        "def intervalo(n1, n2):\n",
        "  if n1 > n2:\n",
        "    print(n2)\n",
        "    intervalo(n2 + 1, n1)\n",
        "  if n2 > n1:\n",
        "    print(n1)\n",
        "    intervalo(n1 + 1, n2)\n",
        "\n",
        "  if n1 == n2:\n",
        "    print(n1)\n",
        "\n",
        "n1 = int(input(\"Digite o primeiro número: \"))\n",
        "n2 = int(input(\"Digite o segundo número: \"))\n",
        "\n",
        "intervalo(n1, n2)"
      ],
      "metadata": {
        "colab": {
          "base_uri": "https://localhost:8080/"
        },
        "id": "wGkR11sOhssB",
        "outputId": "be55607d-e248-4090-e47b-af61976c8315"
      },
      "execution_count": 9,
      "outputs": [
        {
          "output_type": "stream",
          "name": "stdout",
          "text": [
            "Digite o primeiro número: 15\n",
            "Digite o segundo número: 15\n",
            "15\n"
          ]
        }
      ]
    },
    {
      "cell_type": "markdown",
      "source": [
        "2.Mudando apenas uma linha, altere o código anterior para imprimir o intervalo invertido."
      ],
      "metadata": {
        "id": "cX44V2EGj4-5"
      }
    },
    {
      "cell_type": "code",
      "source": [
        "def intervalo(n1, n2):\n",
        "  if n1 > n2:\n",
        "    print(n1)\n",
        "    intervalo(n1 - 1, n2)\n",
        "\n",
        "  if n2 > n1:\n",
        "    print(n1)\n",
        "    intervalo(n1 + 1, n2)\n",
        "\n",
        "  if n1 == n2:\n",
        "    print(n1)\n",
        "\n",
        "n1 = int(input(\"Digite o primeiro número: \"))\n",
        "n2 = int(input(\"Digite o segundo número: \"))\n",
        "\n",
        "intervalo(n1, n2)"
      ],
      "metadata": {
        "colab": {
          "base_uri": "https://localhost:8080/"
        },
        "id": "h6pEjYaoj-YP",
        "outputId": "885006cc-046b-45c9-90de-66b1244bd7b6"
      },
      "execution_count": 14,
      "outputs": [
        {
          "output_type": "stream",
          "name": "stdout",
          "text": [
            "Digite o primeiro número: 15\n",
            "Digite o segundo número: 10\n",
            "15\n",
            "14\n",
            "13\n",
            "12\n",
            "11\n",
            "10\n"
          ]
        }
      ]
    },
    {
      "cell_type": "markdown",
      "source": [
        "3.Escreva uma função recursiva que recebe um inteiro n > 1 e calcula a soma dos valores entre n e 1."
      ],
      "metadata": {
        "id": "FrA--hSnlyo9"
      }
    },
    {
      "cell_type": "code",
      "source": [
        "def soma(n):\n",
        "  if n == 1:\n",
        "    return 1\n",
        "  else:\n",
        "    return n + soma(n - 1)\n",
        "\n",
        "n = int(input(\"Digite o número:\"))\n",
        "soma(n)\n"
      ],
      "metadata": {
        "colab": {
          "base_uri": "https://localhost:8080/"
        },
        "id": "3qChn4HOl0iV",
        "outputId": "50952007-5c02-42a9-bda4-288fd6d70c05"
      },
      "execution_count": 28,
      "outputs": [
        {
          "name": "stdout",
          "output_type": "stream",
          "text": [
            "Digite o número:5\n"
          ]
        },
        {
          "output_type": "execute_result",
          "data": {
            "text/plain": [
              "15"
            ]
          },
          "metadata": {},
          "execution_count": 28
        }
      ]
    },
    {
      "cell_type": "markdown",
      "source": [
        "4.Escreva uma função recursiva que recebe um inteiro n e verifica se n é um valor primo, ou seja, se é divisível apenas por si mesmo e por 1."
      ],
      "metadata": {
        "id": "rRe0KLRXy4tt"
      }
    },
    {
      "cell_type": "code",
      "source": [
        "def primo(n):\n",
        "  if n < 2:\n",
        "    return False\n",
        "  else:\n",
        "    for i in range (2, n):\n",
        "      if n % i == 0:\n",
        "        return False\n",
        "    return True\n",
        "\n",
        "n = int(input(\"Digite o número:\"))\n",
        "primo(n)\n"
      ],
      "metadata": {
        "colab": {
          "base_uri": "https://localhost:8080/"
        },
        "id": "UGKdBB4Qy8VN",
        "outputId": "3d2e9935-45fa-40f5-f054-748167551935"
      },
      "execution_count": 30,
      "outputs": [
        {
          "name": "stdout",
          "output_type": "stream",
          "text": [
            "Digite o número:4\n"
          ]
        },
        {
          "output_type": "execute_result",
          "data": {
            "text/plain": [
              "False"
            ]
          },
          "metadata": {},
          "execution_count": 30
        }
      ]
    },
    {
      "cell_type": "markdown",
      "source": [
        "5.Implemente uma função recursiva que recebe um número inteiro decimal e retorna sua representação binária como uma string. Para realizar essa conversão, utilize o método de divisão sucessiva, onde você divide o número decimal por 2 e coleta os restos até que o quociente seja zero. A ordem dos restos coletados, de baixo para cima, forma o número binário correspondente."
      ],
      "metadata": {
        "id": "sq_IbCaq1qyD"
      }
    },
    {
      "cell_type": "code",
      "source": [
        "def bin(n):\n",
        "    if n == 0:\n",
        "        return \"0\"\n",
        "    if n == 1:\n",
        "        return \"1\"\n",
        "    else:\n",
        "        return bin(n // 2) + str(n % 2)\n",
        "n = int(input(\"Conversor de descimal para binário:  Digite um número:\"))\n",
        "bin(n)"
      ],
      "metadata": {
        "colab": {
          "base_uri": "https://localhost:8080/",
          "height": 87
        },
        "id": "6QzEOU771sKK",
        "outputId": "b244d990-a61d-4d5a-8a89-dbc44ba45a5a"
      },
      "execution_count": 32,
      "outputs": [
        {
          "output_type": "stream",
          "name": "stdout",
          "text": [
            "Conversor de descimal para binário:  Digite um número:6\n",
            "O numero\n",
            "O numero\n"
          ]
        },
        {
          "output_type": "execute_result",
          "data": {
            "text/plain": [
              "'110'"
            ],
            "application/vnd.google.colaboratory.intrinsic+json": {
              "type": "string"
            }
          },
          "metadata": {},
          "execution_count": 32
        }
      ]
    },
    {
      "cell_type": "markdown",
      "source": [
        "6.Implemente uma função recursiva em Python que realiza a travessia em pré-ordem de uma árvore binária representada por listas aninhadas. Na travessia em pré-ordem (ou pré-fixada), o nó raiz é visitado primeiro, seguido pela subárvore esquerda e, por fim, pela subárvore direita. A questão fixa as constantes RAIZ_IDX, ESQ_IDX, DIR_IDX representando os índices da lista onde se encontra o valor raíz, o nó a esquerda e o nó a direita."
      ],
      "metadata": {
        "id": "uGf5Uc203xp-"
      }
    },
    {
      "cell_type": "code",
      "source": [
        "\n",
        "RAIZ_IDX, ESQ_IDX, DIR_IDX = 0, 1, 2\n",
        "\n",
        "arvore = [\n",
        "    4,              # raíz, nível 0\n",
        "    [               # ramo da esquerda, nível 1\n",
        "        2,          # valor filho esquerda\n",
        "        [1, None, None],   # ramo da esquerda, nível 2\n",
        "        [3, None, None]    # ramo da direita, nível 2\n",
        "    ],\n",
        "    [               # ramo da direita, nível 1\n",
        "        5,          # valor filho da direita\n",
        "        None,              # ramo da esquerda, nível 2\n",
        "        None               # ramo da direita, nível 2\n",
        "    ]\n",
        "]"
      ],
      "metadata": {
        "id": "4h1X8HyO31AO"
      },
      "execution_count": null,
      "outputs": []
    }
  ]
}